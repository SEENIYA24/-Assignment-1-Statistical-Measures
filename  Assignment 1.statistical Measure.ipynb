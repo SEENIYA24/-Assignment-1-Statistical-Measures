{
 "cells": [
  {
   "cell_type": "code",
   "execution_count": 1,
   "id": "75cdf336-0306-4afb-9e13-8c05f253713f",
   "metadata": {},
   "outputs": [],
   "source": [
    "#Assignment 1.Statistical Measure"
   ]
  },
  {
   "cell_type": "code",
   "execution_count": 2,
   "id": "04ed15e0-8618-46c9-ac31-d336d1d4e423",
   "metadata": {},
   "outputs": [],
   "source": [
    "import pandas as pd\n",
    "import numpy as np\n",
    "import matplotlib.pyplot as plt\n",
    "import seaborn as sns"
   ]
  },
  {
   "cell_type": "code",
   "execution_count": 3,
   "id": "72799f4b-34c2-421a-a12a-d5f7d54c3347",
   "metadata": {},
   "outputs": [
    {
     "data": {
      "text/html": [
       "<div>\n",
       "<style scoped>\n",
       "    .dataframe tbody tr th:only-of-type {\n",
       "        vertical-align: middle;\n",
       "    }\n",
       "\n",
       "    .dataframe tbody tr th {\n",
       "        vertical-align: top;\n",
       "    }\n",
       "\n",
       "    .dataframe thead th {\n",
       "        text-align: right;\n",
       "    }\n",
       "</style>\n",
       "<table border=\"1\" class=\"dataframe\">\n",
       "  <thead>\n",
       "    <tr style=\"text-align: right;\">\n",
       "      <th></th>\n",
       "      <th>location</th>\n",
       "      <th>size</th>\n",
       "      <th>total_sqft</th>\n",
       "      <th>bath</th>\n",
       "      <th>price</th>\n",
       "      <th>bhk</th>\n",
       "      <th>price_per_sqft</th>\n",
       "    </tr>\n",
       "  </thead>\n",
       "  <tbody>\n",
       "    <tr>\n",
       "      <th>0</th>\n",
       "      <td>Electronic City Phase II</td>\n",
       "      <td>2 BHK</td>\n",
       "      <td>1056.0</td>\n",
       "      <td>2.0</td>\n",
       "      <td>39.07</td>\n",
       "      <td>2</td>\n",
       "      <td>3699</td>\n",
       "    </tr>\n",
       "    <tr>\n",
       "      <th>1</th>\n",
       "      <td>Chikka Tirupathi</td>\n",
       "      <td>4 Bedroom</td>\n",
       "      <td>2600.0</td>\n",
       "      <td>5.0</td>\n",
       "      <td>120.00</td>\n",
       "      <td>4</td>\n",
       "      <td>4615</td>\n",
       "    </tr>\n",
       "    <tr>\n",
       "      <th>2</th>\n",
       "      <td>Uttarahalli</td>\n",
       "      <td>3 BHK</td>\n",
       "      <td>1440.0</td>\n",
       "      <td>2.0</td>\n",
       "      <td>62.00</td>\n",
       "      <td>3</td>\n",
       "      <td>4305</td>\n",
       "    </tr>\n",
       "    <tr>\n",
       "      <th>3</th>\n",
       "      <td>Lingadheeranahalli</td>\n",
       "      <td>3 BHK</td>\n",
       "      <td>1521.0</td>\n",
       "      <td>3.0</td>\n",
       "      <td>95.00</td>\n",
       "      <td>3</td>\n",
       "      <td>6245</td>\n",
       "    </tr>\n",
       "    <tr>\n",
       "      <th>4</th>\n",
       "      <td>Kothanur</td>\n",
       "      <td>2 BHK</td>\n",
       "      <td>1200.0</td>\n",
       "      <td>2.0</td>\n",
       "      <td>51.00</td>\n",
       "      <td>2</td>\n",
       "      <td>4250</td>\n",
       "    </tr>\n",
       "    <tr>\n",
       "      <th>5</th>\n",
       "      <td>Whitefield</td>\n",
       "      <td>2 BHK</td>\n",
       "      <td>1170.0</td>\n",
       "      <td>2.0</td>\n",
       "      <td>38.00</td>\n",
       "      <td>2</td>\n",
       "      <td>3247</td>\n",
       "    </tr>\n",
       "    <tr>\n",
       "      <th>6</th>\n",
       "      <td>Old Airport Road</td>\n",
       "      <td>4 BHK</td>\n",
       "      <td>2732.0</td>\n",
       "      <td>4.0</td>\n",
       "      <td>204.00</td>\n",
       "      <td>4</td>\n",
       "      <td>7467</td>\n",
       "    </tr>\n",
       "    <tr>\n",
       "      <th>7</th>\n",
       "      <td>Rajaji Nagar</td>\n",
       "      <td>4 BHK</td>\n",
       "      <td>3300.0</td>\n",
       "      <td>4.0</td>\n",
       "      <td>600.00</td>\n",
       "      <td>4</td>\n",
       "      <td>18181</td>\n",
       "    </tr>\n",
       "    <tr>\n",
       "      <th>8</th>\n",
       "      <td>Marathahalli</td>\n",
       "      <td>3 BHK</td>\n",
       "      <td>1310.0</td>\n",
       "      <td>3.0</td>\n",
       "      <td>63.25</td>\n",
       "      <td>3</td>\n",
       "      <td>4828</td>\n",
       "    </tr>\n",
       "    <tr>\n",
       "      <th>9</th>\n",
       "      <td>other</td>\n",
       "      <td>6 Bedroom</td>\n",
       "      <td>1020.0</td>\n",
       "      <td>6.0</td>\n",
       "      <td>370.00</td>\n",
       "      <td>6</td>\n",
       "      <td>36274</td>\n",
       "    </tr>\n",
       "  </tbody>\n",
       "</table>\n",
       "</div>"
      ],
      "text/plain": [
       "                   location       size  total_sqft  bath   price  bhk  \\\n",
       "0  Electronic City Phase II      2 BHK      1056.0   2.0   39.07    2   \n",
       "1          Chikka Tirupathi  4 Bedroom      2600.0   5.0  120.00    4   \n",
       "2               Uttarahalli      3 BHK      1440.0   2.0   62.00    3   \n",
       "3        Lingadheeranahalli      3 BHK      1521.0   3.0   95.00    3   \n",
       "4                  Kothanur      2 BHK      1200.0   2.0   51.00    2   \n",
       "5                Whitefield      2 BHK      1170.0   2.0   38.00    2   \n",
       "6          Old Airport Road      4 BHK      2732.0   4.0  204.00    4   \n",
       "7              Rajaji Nagar      4 BHK      3300.0   4.0  600.00    4   \n",
       "8              Marathahalli      3 BHK      1310.0   3.0   63.25    3   \n",
       "9                     other  6 Bedroom      1020.0   6.0  370.00    6   \n",
       "\n",
       "   price_per_sqft  \n",
       "0            3699  \n",
       "1            4615  \n",
       "2            4305  \n",
       "3            6245  \n",
       "4            4250  \n",
       "5            3247  \n",
       "6            7467  \n",
       "7           18181  \n",
       "8            4828  \n",
       "9           36274  "
      ]
     },
     "execution_count": 3,
     "metadata": {},
     "output_type": "execute_result"
    }
   ],
   "source": [
    "df=pd.read_csv(\"house_price.csv\")\n",
    "df.head(10)"
   ]
  },
  {
   "cell_type": "code",
   "execution_count": 4,
   "id": "295c7cf2-2893-44e5-95c0-b09a7cd0e7c6",
   "metadata": {},
   "outputs": [],
   "source": [
    "#1.Perform basic EDA"
   ]
  },
  {
   "cell_type": "code",
   "execution_count": 5,
   "id": "313e5dd8-5b31-4a25-8c30-00ac6ff93a9a",
   "metadata": {},
   "outputs": [
    {
     "data": {
      "text/plain": [
       "7920.336742424242"
      ]
     },
     "execution_count": 5,
     "metadata": {},
     "output_type": "execute_result"
    }
   ],
   "source": [
    "df.price_per_sqft.mean()"
   ]
  },
  {
   "cell_type": "code",
   "execution_count": 6,
   "id": "985c5641-e1b7-445a-af1e-691075a3cbfd",
   "metadata": {},
   "outputs": [
    {
     "data": {
      "text/plain": [
       "5438.0"
      ]
     },
     "execution_count": 6,
     "metadata": {},
     "output_type": "execute_result"
    }
   ],
   "source": [
    "df.price_per_sqft.median()"
   ]
  },
  {
   "cell_type": "code",
   "execution_count": 7,
   "id": "91f9cb50-5b89-47de-a9c6-46aa5832c955",
   "metadata": {},
   "outputs": [
    {
     "data": {
      "text/plain": [
       "0    5000\n",
       "Name: price_per_sqft, dtype: int64"
      ]
     },
     "execution_count": 7,
     "metadata": {},
     "output_type": "execute_result"
    }
   ],
   "source": [
    "df.price_per_sqft.mode()"
   ]
  },
  {
   "cell_type": "code",
   "execution_count": 8,
   "id": "03becfb3-c17e-4a4e-92dd-35133c54d86a",
   "metadata": {},
   "outputs": [
    {
     "data": {
      "text/plain": [
       "106727.16032810845"
      ]
     },
     "execution_count": 8,
     "metadata": {},
     "output_type": "execute_result"
    }
   ],
   "source": [
    "df.price_per_sqft.std()"
   ]
  },
  {
   "cell_type": "code",
   "execution_count": 9,
   "id": "71e1d3c4-5bb6-4414-8ff1-a56dde026273",
   "metadata": {},
   "outputs": [],
   "source": [
    "#IQR find"
   ]
  },
  {
   "cell_type": "code",
   "execution_count": 10,
   "id": "af1c45b0-c665-4994-809c-e77c968145f6",
   "metadata": {},
   "outputs": [
    {
     "data": {
      "text/plain": [
       "0.75    7317.0\n",
       "0.50    5438.0\n",
       "0.25    4267.0\n",
       "Name: price_per_sqft, dtype: float64"
      ]
     },
     "execution_count": 10,
     "metadata": {},
     "output_type": "execute_result"
    }
   ],
   "source": [
    "df.price_per_sqft.quantile([0.75,0.50,0.25])"
   ]
  },
  {
   "cell_type": "code",
   "execution_count": 11,
   "id": "3236091e-6ca4-42b7-95cb-3f5988c2ae83",
   "metadata": {},
   "outputs": [],
   "source": [
    "#using fillnafor removing nan values"
   ]
  },
  {
   "cell_type": "code",
   "execution_count": 12,
   "id": "9cd5de5a-d1ba-4e7f-b178-425e354c661a",
   "metadata": {},
   "outputs": [
    {
     "data": {
      "text/html": [
       "<div>\n",
       "<style scoped>\n",
       "    .dataframe tbody tr th:only-of-type {\n",
       "        vertical-align: middle;\n",
       "    }\n",
       "\n",
       "    .dataframe tbody tr th {\n",
       "        vertical-align: top;\n",
       "    }\n",
       "\n",
       "    .dataframe thead th {\n",
       "        text-align: right;\n",
       "    }\n",
       "</style>\n",
       "<table border=\"1\" class=\"dataframe\">\n",
       "  <thead>\n",
       "    <tr style=\"text-align: right;\">\n",
       "      <th></th>\n",
       "      <th>location</th>\n",
       "      <th>size</th>\n",
       "      <th>total_sqft</th>\n",
       "      <th>bath</th>\n",
       "      <th>price</th>\n",
       "      <th>bhk</th>\n",
       "      <th>price_per_sqft</th>\n",
       "    </tr>\n",
       "  </thead>\n",
       "  <tbody>\n",
       "    <tr>\n",
       "      <th>0</th>\n",
       "      <td>Electronic City Phase II</td>\n",
       "      <td>2 BHK</td>\n",
       "      <td>1056.0</td>\n",
       "      <td>2.0</td>\n",
       "      <td>39.07</td>\n",
       "      <td>2</td>\n",
       "      <td>3699</td>\n",
       "    </tr>\n",
       "    <tr>\n",
       "      <th>1</th>\n",
       "      <td>Chikka Tirupathi</td>\n",
       "      <td>4 Bedroom</td>\n",
       "      <td>2600.0</td>\n",
       "      <td>5.0</td>\n",
       "      <td>120.00</td>\n",
       "      <td>4</td>\n",
       "      <td>4615</td>\n",
       "    </tr>\n",
       "    <tr>\n",
       "      <th>2</th>\n",
       "      <td>Uttarahalli</td>\n",
       "      <td>3 BHK</td>\n",
       "      <td>1440.0</td>\n",
       "      <td>2.0</td>\n",
       "      <td>62.00</td>\n",
       "      <td>3</td>\n",
       "      <td>4305</td>\n",
       "    </tr>\n",
       "    <tr>\n",
       "      <th>3</th>\n",
       "      <td>Lingadheeranahalli</td>\n",
       "      <td>3 BHK</td>\n",
       "      <td>1521.0</td>\n",
       "      <td>3.0</td>\n",
       "      <td>95.00</td>\n",
       "      <td>3</td>\n",
       "      <td>6245</td>\n",
       "    </tr>\n",
       "    <tr>\n",
       "      <th>4</th>\n",
       "      <td>Kothanur</td>\n",
       "      <td>2 BHK</td>\n",
       "      <td>1200.0</td>\n",
       "      <td>2.0</td>\n",
       "      <td>51.00</td>\n",
       "      <td>2</td>\n",
       "      <td>4250</td>\n",
       "    </tr>\n",
       "    <tr>\n",
       "      <th>...</th>\n",
       "      <td>...</td>\n",
       "      <td>...</td>\n",
       "      <td>...</td>\n",
       "      <td>...</td>\n",
       "      <td>...</td>\n",
       "      <td>...</td>\n",
       "      <td>...</td>\n",
       "    </tr>\n",
       "    <tr>\n",
       "      <th>13195</th>\n",
       "      <td>Whitefield</td>\n",
       "      <td>5 Bedroom</td>\n",
       "      <td>3453.0</td>\n",
       "      <td>4.0</td>\n",
       "      <td>231.00</td>\n",
       "      <td>5</td>\n",
       "      <td>6689</td>\n",
       "    </tr>\n",
       "    <tr>\n",
       "      <th>13196</th>\n",
       "      <td>other</td>\n",
       "      <td>4 BHK</td>\n",
       "      <td>3600.0</td>\n",
       "      <td>5.0</td>\n",
       "      <td>400.00</td>\n",
       "      <td>4</td>\n",
       "      <td>11111</td>\n",
       "    </tr>\n",
       "    <tr>\n",
       "      <th>13197</th>\n",
       "      <td>Raja Rajeshwari Nagar</td>\n",
       "      <td>2 BHK</td>\n",
       "      <td>1141.0</td>\n",
       "      <td>2.0</td>\n",
       "      <td>60.00</td>\n",
       "      <td>2</td>\n",
       "      <td>5258</td>\n",
       "    </tr>\n",
       "    <tr>\n",
       "      <th>13198</th>\n",
       "      <td>Padmanabhanagar</td>\n",
       "      <td>4 BHK</td>\n",
       "      <td>4689.0</td>\n",
       "      <td>4.0</td>\n",
       "      <td>488.00</td>\n",
       "      <td>4</td>\n",
       "      <td>10407</td>\n",
       "    </tr>\n",
       "    <tr>\n",
       "      <th>13199</th>\n",
       "      <td>Doddathoguru</td>\n",
       "      <td>1 BHK</td>\n",
       "      <td>550.0</td>\n",
       "      <td>1.0</td>\n",
       "      <td>17.00</td>\n",
       "      <td>1</td>\n",
       "      <td>3090</td>\n",
       "    </tr>\n",
       "  </tbody>\n",
       "</table>\n",
       "<p>13200 rows × 7 columns</p>\n",
       "</div>"
      ],
      "text/plain": [
       "                       location       size  total_sqft  bath   price  bhk  \\\n",
       "0      Electronic City Phase II      2 BHK      1056.0   2.0   39.07    2   \n",
       "1              Chikka Tirupathi  4 Bedroom      2600.0   5.0  120.00    4   \n",
       "2                   Uttarahalli      3 BHK      1440.0   2.0   62.00    3   \n",
       "3            Lingadheeranahalli      3 BHK      1521.0   3.0   95.00    3   \n",
       "4                      Kothanur      2 BHK      1200.0   2.0   51.00    2   \n",
       "...                         ...        ...         ...   ...     ...  ...   \n",
       "13195                Whitefield  5 Bedroom      3453.0   4.0  231.00    5   \n",
       "13196                     other      4 BHK      3600.0   5.0  400.00    4   \n",
       "13197     Raja Rajeshwari Nagar      2 BHK      1141.0   2.0   60.00    2   \n",
       "13198           Padmanabhanagar      4 BHK      4689.0   4.0  488.00    4   \n",
       "13199              Doddathoguru      1 BHK       550.0   1.0   17.00    1   \n",
       "\n",
       "       price_per_sqft  \n",
       "0                3699  \n",
       "1                4615  \n",
       "2                4305  \n",
       "3                6245  \n",
       "4                4250  \n",
       "...               ...  \n",
       "13195            6689  \n",
       "13196           11111  \n",
       "13197            5258  \n",
       "13198           10407  \n",
       "13199            3090  \n",
       "\n",
       "[13200 rows x 7 columns]"
      ]
     },
     "execution_count": 12,
     "metadata": {},
     "output_type": "execute_result"
    }
   ],
   "source": [
    "df.fillna(df.price_per_sqft.median())"
   ]
  },
  {
   "cell_type": "code",
   "execution_count": 13,
   "id": "332629dd-3fa2-4348-872b-ae9aaa7509e6",
   "metadata": {},
   "outputs": [
    {
     "data": {
      "text/html": [
       "<div>\n",
       "<style scoped>\n",
       "    .dataframe tbody tr th:only-of-type {\n",
       "        vertical-align: middle;\n",
       "    }\n",
       "\n",
       "    .dataframe tbody tr th {\n",
       "        vertical-align: top;\n",
       "    }\n",
       "\n",
       "    .dataframe thead th {\n",
       "        text-align: right;\n",
       "    }\n",
       "</style>\n",
       "<table border=\"1\" class=\"dataframe\">\n",
       "  <thead>\n",
       "    <tr style=\"text-align: right;\">\n",
       "      <th></th>\n",
       "      <th>location</th>\n",
       "      <th>size</th>\n",
       "      <th>total_sqft</th>\n",
       "      <th>bath</th>\n",
       "      <th>price</th>\n",
       "      <th>bhk</th>\n",
       "      <th>price_per_sqft</th>\n",
       "    </tr>\n",
       "  </thead>\n",
       "  <tbody>\n",
       "    <tr>\n",
       "      <th>0</th>\n",
       "      <td>Electronic City Phase II</td>\n",
       "      <td>2 BHK</td>\n",
       "      <td>1056.0</td>\n",
       "      <td>2.0</td>\n",
       "      <td>39.07</td>\n",
       "      <td>2</td>\n",
       "      <td>3699</td>\n",
       "    </tr>\n",
       "    <tr>\n",
       "      <th>1</th>\n",
       "      <td>Chikka Tirupathi</td>\n",
       "      <td>4 Bedroom</td>\n",
       "      <td>2600.0</td>\n",
       "      <td>5.0</td>\n",
       "      <td>120.00</td>\n",
       "      <td>4</td>\n",
       "      <td>4615</td>\n",
       "    </tr>\n",
       "    <tr>\n",
       "      <th>2</th>\n",
       "      <td>Uttarahalli</td>\n",
       "      <td>3 BHK</td>\n",
       "      <td>1440.0</td>\n",
       "      <td>2.0</td>\n",
       "      <td>62.00</td>\n",
       "      <td>3</td>\n",
       "      <td>4305</td>\n",
       "    </tr>\n",
       "    <tr>\n",
       "      <th>3</th>\n",
       "      <td>Lingadheeranahalli</td>\n",
       "      <td>3 BHK</td>\n",
       "      <td>1521.0</td>\n",
       "      <td>3.0</td>\n",
       "      <td>95.00</td>\n",
       "      <td>3</td>\n",
       "      <td>6245</td>\n",
       "    </tr>\n",
       "    <tr>\n",
       "      <th>4</th>\n",
       "      <td>Kothanur</td>\n",
       "      <td>2 BHK</td>\n",
       "      <td>1200.0</td>\n",
       "      <td>2.0</td>\n",
       "      <td>51.00</td>\n",
       "      <td>2</td>\n",
       "      <td>4250</td>\n",
       "    </tr>\n",
       "    <tr>\n",
       "      <th>...</th>\n",
       "      <td>...</td>\n",
       "      <td>...</td>\n",
       "      <td>...</td>\n",
       "      <td>...</td>\n",
       "      <td>...</td>\n",
       "      <td>...</td>\n",
       "      <td>...</td>\n",
       "    </tr>\n",
       "    <tr>\n",
       "      <th>13195</th>\n",
       "      <td>Whitefield</td>\n",
       "      <td>5 Bedroom</td>\n",
       "      <td>3453.0</td>\n",
       "      <td>4.0</td>\n",
       "      <td>231.00</td>\n",
       "      <td>5</td>\n",
       "      <td>6689</td>\n",
       "    </tr>\n",
       "    <tr>\n",
       "      <th>13196</th>\n",
       "      <td>other</td>\n",
       "      <td>4 BHK</td>\n",
       "      <td>3600.0</td>\n",
       "      <td>5.0</td>\n",
       "      <td>400.00</td>\n",
       "      <td>4</td>\n",
       "      <td>11111</td>\n",
       "    </tr>\n",
       "    <tr>\n",
       "      <th>13197</th>\n",
       "      <td>Raja Rajeshwari Nagar</td>\n",
       "      <td>2 BHK</td>\n",
       "      <td>1141.0</td>\n",
       "      <td>2.0</td>\n",
       "      <td>60.00</td>\n",
       "      <td>2</td>\n",
       "      <td>5258</td>\n",
       "    </tr>\n",
       "    <tr>\n",
       "      <th>13198</th>\n",
       "      <td>Padmanabhanagar</td>\n",
       "      <td>4 BHK</td>\n",
       "      <td>4689.0</td>\n",
       "      <td>4.0</td>\n",
       "      <td>488.00</td>\n",
       "      <td>4</td>\n",
       "      <td>10407</td>\n",
       "    </tr>\n",
       "    <tr>\n",
       "      <th>13199</th>\n",
       "      <td>Doddathoguru</td>\n",
       "      <td>1 BHK</td>\n",
       "      <td>550.0</td>\n",
       "      <td>1.0</td>\n",
       "      <td>17.00</td>\n",
       "      <td>1</td>\n",
       "      <td>3090</td>\n",
       "    </tr>\n",
       "  </tbody>\n",
       "</table>\n",
       "<p>13200 rows × 7 columns</p>\n",
       "</div>"
      ],
      "text/plain": [
       "                       location       size  total_sqft  bath   price  bhk  \\\n",
       "0      Electronic City Phase II      2 BHK      1056.0   2.0   39.07    2   \n",
       "1              Chikka Tirupathi  4 Bedroom      2600.0   5.0  120.00    4   \n",
       "2                   Uttarahalli      3 BHK      1440.0   2.0   62.00    3   \n",
       "3            Lingadheeranahalli      3 BHK      1521.0   3.0   95.00    3   \n",
       "4                      Kothanur      2 BHK      1200.0   2.0   51.00    2   \n",
       "...                         ...        ...         ...   ...     ...  ...   \n",
       "13195                Whitefield  5 Bedroom      3453.0   4.0  231.00    5   \n",
       "13196                     other      4 BHK      3600.0   5.0  400.00    4   \n",
       "13197     Raja Rajeshwari Nagar      2 BHK      1141.0   2.0   60.00    2   \n",
       "13198           Padmanabhanagar      4 BHK      4689.0   4.0  488.00    4   \n",
       "13199              Doddathoguru      1 BHK       550.0   1.0   17.00    1   \n",
       "\n",
       "       price_per_sqft  \n",
       "0                3699  \n",
       "1                4615  \n",
       "2                4305  \n",
       "3                6245  \n",
       "4                4250  \n",
       "...               ...  \n",
       "13195            6689  \n",
       "13196           11111  \n",
       "13197            5258  \n",
       "13198           10407  \n",
       "13199            3090  \n",
       "\n",
       "[13200 rows x 7 columns]"
      ]
     },
     "execution_count": 13,
     "metadata": {},
     "output_type": "execute_result"
    }
   ],
   "source": [
    "#save  the dataframe\n",
    "df1=df.fillna({'price_per-sqft':df.price_per_sqft.mean()})\n",
    "df1"
   ]
  },
  {
   "cell_type": "code",
   "execution_count": 14,
   "id": "ca73ef30-e286-4b62-b9e6-ceea3d37d428",
   "metadata": {},
   "outputs": [],
   "source": [
    "df1=df.copy()\n",
    "df1.loc[:,'price_per_sqft']=df1['price_per_sqft'].fillna(df1['price_per_sqft'].mean())"
   ]
  },
  {
   "cell_type": "code",
   "execution_count": 15,
   "id": "a76fa3e5-f61b-4804-a0a5-ec48168af492",
   "metadata": {},
   "outputs": [
    {
     "data": {
      "text/html": [
       "<div>\n",
       "<style scoped>\n",
       "    .dataframe tbody tr th:only-of-type {\n",
       "        vertical-align: middle;\n",
       "    }\n",
       "\n",
       "    .dataframe tbody tr th {\n",
       "        vertical-align: top;\n",
       "    }\n",
       "\n",
       "    .dataframe thead th {\n",
       "        text-align: right;\n",
       "    }\n",
       "</style>\n",
       "<table border=\"1\" class=\"dataframe\">\n",
       "  <thead>\n",
       "    <tr style=\"text-align: right;\">\n",
       "      <th></th>\n",
       "      <th>location</th>\n",
       "      <th>size</th>\n",
       "      <th>total_sqft</th>\n",
       "      <th>bath</th>\n",
       "      <th>price</th>\n",
       "      <th>bhk</th>\n",
       "      <th>price_per_sqft</th>\n",
       "    </tr>\n",
       "  </thead>\n",
       "  <tbody>\n",
       "    <tr>\n",
       "      <th>0</th>\n",
       "      <td>Electronic City Phase II</td>\n",
       "      <td>2 BHK</td>\n",
       "      <td>1056.0</td>\n",
       "      <td>2.0</td>\n",
       "      <td>39.07</td>\n",
       "      <td>2</td>\n",
       "      <td>3699</td>\n",
       "    </tr>\n",
       "    <tr>\n",
       "      <th>1</th>\n",
       "      <td>Chikka Tirupathi</td>\n",
       "      <td>4 Bedroom</td>\n",
       "      <td>2600.0</td>\n",
       "      <td>5.0</td>\n",
       "      <td>120.00</td>\n",
       "      <td>4</td>\n",
       "      <td>4615</td>\n",
       "    </tr>\n",
       "    <tr>\n",
       "      <th>2</th>\n",
       "      <td>Uttarahalli</td>\n",
       "      <td>3 BHK</td>\n",
       "      <td>1440.0</td>\n",
       "      <td>2.0</td>\n",
       "      <td>62.00</td>\n",
       "      <td>3</td>\n",
       "      <td>4305</td>\n",
       "    </tr>\n",
       "    <tr>\n",
       "      <th>3</th>\n",
       "      <td>Lingadheeranahalli</td>\n",
       "      <td>3 BHK</td>\n",
       "      <td>1521.0</td>\n",
       "      <td>3.0</td>\n",
       "      <td>95.00</td>\n",
       "      <td>3</td>\n",
       "      <td>6245</td>\n",
       "    </tr>\n",
       "    <tr>\n",
       "      <th>4</th>\n",
       "      <td>Kothanur</td>\n",
       "      <td>2 BHK</td>\n",
       "      <td>1200.0</td>\n",
       "      <td>2.0</td>\n",
       "      <td>51.00</td>\n",
       "      <td>2</td>\n",
       "      <td>4250</td>\n",
       "    </tr>\n",
       "    <tr>\n",
       "      <th>...</th>\n",
       "      <td>...</td>\n",
       "      <td>...</td>\n",
       "      <td>...</td>\n",
       "      <td>...</td>\n",
       "      <td>...</td>\n",
       "      <td>...</td>\n",
       "      <td>...</td>\n",
       "    </tr>\n",
       "    <tr>\n",
       "      <th>13195</th>\n",
       "      <td>Whitefield</td>\n",
       "      <td>5 Bedroom</td>\n",
       "      <td>3453.0</td>\n",
       "      <td>4.0</td>\n",
       "      <td>231.00</td>\n",
       "      <td>5</td>\n",
       "      <td>6689</td>\n",
       "    </tr>\n",
       "    <tr>\n",
       "      <th>13196</th>\n",
       "      <td>other</td>\n",
       "      <td>4 BHK</td>\n",
       "      <td>3600.0</td>\n",
       "      <td>5.0</td>\n",
       "      <td>400.00</td>\n",
       "      <td>4</td>\n",
       "      <td>11111</td>\n",
       "    </tr>\n",
       "    <tr>\n",
       "      <th>13197</th>\n",
       "      <td>Raja Rajeshwari Nagar</td>\n",
       "      <td>2 BHK</td>\n",
       "      <td>1141.0</td>\n",
       "      <td>2.0</td>\n",
       "      <td>60.00</td>\n",
       "      <td>2</td>\n",
       "      <td>5258</td>\n",
       "    </tr>\n",
       "    <tr>\n",
       "      <th>13198</th>\n",
       "      <td>Padmanabhanagar</td>\n",
       "      <td>4 BHK</td>\n",
       "      <td>4689.0</td>\n",
       "      <td>4.0</td>\n",
       "      <td>488.00</td>\n",
       "      <td>4</td>\n",
       "      <td>10407</td>\n",
       "    </tr>\n",
       "    <tr>\n",
       "      <th>13199</th>\n",
       "      <td>Doddathoguru</td>\n",
       "      <td>1 BHK</td>\n",
       "      <td>550.0</td>\n",
       "      <td>1.0</td>\n",
       "      <td>17.00</td>\n",
       "      <td>1</td>\n",
       "      <td>3090</td>\n",
       "    </tr>\n",
       "  </tbody>\n",
       "</table>\n",
       "<p>13200 rows × 7 columns</p>\n",
       "</div>"
      ],
      "text/plain": [
       "                       location       size  total_sqft  bath   price  bhk  \\\n",
       "0      Electronic City Phase II      2 BHK      1056.0   2.0   39.07    2   \n",
       "1              Chikka Tirupathi  4 Bedroom      2600.0   5.0  120.00    4   \n",
       "2                   Uttarahalli      3 BHK      1440.0   2.0   62.00    3   \n",
       "3            Lingadheeranahalli      3 BHK      1521.0   3.0   95.00    3   \n",
       "4                      Kothanur      2 BHK      1200.0   2.0   51.00    2   \n",
       "...                         ...        ...         ...   ...     ...  ...   \n",
       "13195                Whitefield  5 Bedroom      3453.0   4.0  231.00    5   \n",
       "13196                     other      4 BHK      3600.0   5.0  400.00    4   \n",
       "13197     Raja Rajeshwari Nagar      2 BHK      1141.0   2.0   60.00    2   \n",
       "13198           Padmanabhanagar      4 BHK      4689.0   4.0  488.00    4   \n",
       "13199              Doddathoguru      1 BHK       550.0   1.0   17.00    1   \n",
       "\n",
       "       price_per_sqft  \n",
       "0                3699  \n",
       "1                4615  \n",
       "2                4305  \n",
       "3                6245  \n",
       "4                4250  \n",
       "...               ...  \n",
       "13195            6689  \n",
       "13196           11111  \n",
       "13197            5258  \n",
       "13198           10407  \n",
       "13199            3090  \n",
       "\n",
       "[13200 rows x 7 columns]"
      ]
     },
     "execution_count": 15,
     "metadata": {},
     "output_type": "execute_result"
    }
   ],
   "source": [
    "df1"
   ]
  },
  {
   "cell_type": "code",
   "execution_count": 16,
   "id": "63ddbb78-e214-4e86-bf60-009bae655008",
   "metadata": {},
   "outputs": [],
   "source": [
    "#Q1 =0.25\n",
    "q1=df1.price_per_sqft.quantile(0.25)"
   ]
  },
  {
   "cell_type": "code",
   "execution_count": 17,
   "id": "c6bda5ec-b88b-418f-a293-a2e32cbf7ae4",
   "metadata": {},
   "outputs": [],
   "source": [
    "q3=df1.price_per_sqft.quantile(0.75)"
   ]
  },
  {
   "cell_type": "code",
   "execution_count": 18,
   "id": "a2eeca1e-e695-492b-a366-f3b0c480a5b2",
   "metadata": {},
   "outputs": [
    {
     "data": {
      "text/plain": [
       "3050.0"
      ]
     },
     "execution_count": 18,
     "metadata": {},
     "output_type": "execute_result"
    }
   ],
   "source": [
    "iqr=q3-q1\n",
    "iqr"
   ]
  },
  {
   "cell_type": "code",
   "execution_count": 19,
   "id": "2dee87ec-7ea7-4763-a984-f7a3a29760be",
   "metadata": {},
   "outputs": [
    {
     "data": {
      "text/plain": [
       "(-308.0, 11892.0)"
      ]
     },
     "execution_count": 19,
     "metadata": {},
     "output_type": "execute_result"
    }
   ],
   "source": [
    "lower=q1-1.5*iqr\n",
    "upper=q3+1.5*iqr\n",
    "\n",
    "lower,upper"
   ]
  },
  {
   "cell_type": "code",
   "execution_count": 20,
   "id": "142c0127-1604-4a7c-bc53-029274431f5f",
   "metadata": {},
   "outputs": [
    {
     "name": "stdout",
     "output_type": "stream",
     "text": [
      "<class 'pandas.core.frame.DataFrame'>\n",
      "RangeIndex: 13200 entries, 0 to 13199\n",
      "Data columns (total 7 columns):\n",
      " #   Column          Non-Null Count  Dtype  \n",
      "---  ------          --------------  -----  \n",
      " 0   location        13200 non-null  object \n",
      " 1   size            13200 non-null  object \n",
      " 2   total_sqft      13200 non-null  float64\n",
      " 3   bath            13200 non-null  float64\n",
      " 4   price           13200 non-null  float64\n",
      " 5   bhk             13200 non-null  int64  \n",
      " 6   price_per_sqft  13200 non-null  int64  \n",
      "dtypes: float64(3), int64(2), object(2)\n",
      "memory usage: 722.0+ KB\n"
     ]
    }
   ],
   "source": [
    "df.info()"
   ]
  },
  {
   "cell_type": "code",
   "execution_count": 21,
   "id": "229d79f1-8adc-4add-ad33-41afe5c551ca",
   "metadata": {},
   "outputs": [
    {
     "data": {
      "text/html": [
       "<div>\n",
       "<style scoped>\n",
       "    .dataframe tbody tr th:only-of-type {\n",
       "        vertical-align: middle;\n",
       "    }\n",
       "\n",
       "    .dataframe tbody tr th {\n",
       "        vertical-align: top;\n",
       "    }\n",
       "\n",
       "    .dataframe thead th {\n",
       "        text-align: right;\n",
       "    }\n",
       "</style>\n",
       "<table border=\"1\" class=\"dataframe\">\n",
       "  <thead>\n",
       "    <tr style=\"text-align: right;\">\n",
       "      <th></th>\n",
       "      <th>total_sqft</th>\n",
       "      <th>bath</th>\n",
       "      <th>price</th>\n",
       "      <th>bhk</th>\n",
       "      <th>price_per_sqft</th>\n",
       "    </tr>\n",
       "  </thead>\n",
       "  <tbody>\n",
       "    <tr>\n",
       "      <th>count</th>\n",
       "      <td>13200.000000</td>\n",
       "      <td>13200.000000</td>\n",
       "      <td>13200.000000</td>\n",
       "      <td>13200.000000</td>\n",
       "      <td>1.320000e+04</td>\n",
       "    </tr>\n",
       "    <tr>\n",
       "      <th>mean</th>\n",
       "      <td>1555.302783</td>\n",
       "      <td>2.691136</td>\n",
       "      <td>112.276178</td>\n",
       "      <td>2.800833</td>\n",
       "      <td>7.920337e+03</td>\n",
       "    </tr>\n",
       "    <tr>\n",
       "      <th>std</th>\n",
       "      <td>1237.323445</td>\n",
       "      <td>1.338915</td>\n",
       "      <td>149.175995</td>\n",
       "      <td>1.292843</td>\n",
       "      <td>1.067272e+05</td>\n",
       "    </tr>\n",
       "    <tr>\n",
       "      <th>min</th>\n",
       "      <td>1.000000</td>\n",
       "      <td>1.000000</td>\n",
       "      <td>8.000000</td>\n",
       "      <td>1.000000</td>\n",
       "      <td>2.670000e+02</td>\n",
       "    </tr>\n",
       "    <tr>\n",
       "      <th>25%</th>\n",
       "      <td>1100.000000</td>\n",
       "      <td>2.000000</td>\n",
       "      <td>50.000000</td>\n",
       "      <td>2.000000</td>\n",
       "      <td>4.267000e+03</td>\n",
       "    </tr>\n",
       "    <tr>\n",
       "      <th>50%</th>\n",
       "      <td>1275.000000</td>\n",
       "      <td>2.000000</td>\n",
       "      <td>71.850000</td>\n",
       "      <td>3.000000</td>\n",
       "      <td>5.438000e+03</td>\n",
       "    </tr>\n",
       "    <tr>\n",
       "      <th>75%</th>\n",
       "      <td>1672.000000</td>\n",
       "      <td>3.000000</td>\n",
       "      <td>120.000000</td>\n",
       "      <td>3.000000</td>\n",
       "      <td>7.317000e+03</td>\n",
       "    </tr>\n",
       "    <tr>\n",
       "      <th>max</th>\n",
       "      <td>52272.000000</td>\n",
       "      <td>40.000000</td>\n",
       "      <td>3600.000000</td>\n",
       "      <td>43.000000</td>\n",
       "      <td>1.200000e+07</td>\n",
       "    </tr>\n",
       "  </tbody>\n",
       "</table>\n",
       "</div>"
      ],
      "text/plain": [
       "         total_sqft          bath         price           bhk  price_per_sqft\n",
       "count  13200.000000  13200.000000  13200.000000  13200.000000    1.320000e+04\n",
       "mean    1555.302783      2.691136    112.276178      2.800833    7.920337e+03\n",
       "std     1237.323445      1.338915    149.175995      1.292843    1.067272e+05\n",
       "min        1.000000      1.000000      8.000000      1.000000    2.670000e+02\n",
       "25%     1100.000000      2.000000     50.000000      2.000000    4.267000e+03\n",
       "50%     1275.000000      2.000000     71.850000      3.000000    5.438000e+03\n",
       "75%     1672.000000      3.000000    120.000000      3.000000    7.317000e+03\n",
       "max    52272.000000     40.000000   3600.000000     43.000000    1.200000e+07"
      ]
     },
     "execution_count": 21,
     "metadata": {},
     "output_type": "execute_result"
    }
   ],
   "source": [
    "df.describe()"
   ]
  },
  {
   "cell_type": "code",
   "execution_count": 22,
   "id": "953e1ee9-df32-4062-babf-bb280bbc003b",
   "metadata": {},
   "outputs": [
    {
     "data": {
      "text/html": [
       "<div>\n",
       "<style scoped>\n",
       "    .dataframe tbody tr th:only-of-type {\n",
       "        vertical-align: middle;\n",
       "    }\n",
       "\n",
       "    .dataframe tbody tr th {\n",
       "        vertical-align: top;\n",
       "    }\n",
       "\n",
       "    .dataframe thead th {\n",
       "        text-align: right;\n",
       "    }\n",
       "</style>\n",
       "<table border=\"1\" class=\"dataframe\">\n",
       "  <thead>\n",
       "    <tr style=\"text-align: right;\">\n",
       "      <th></th>\n",
       "      <th>location</th>\n",
       "      <th>size</th>\n",
       "      <th>total_sqft</th>\n",
       "      <th>bath</th>\n",
       "      <th>price</th>\n",
       "      <th>bhk</th>\n",
       "      <th>price_per_sqft</th>\n",
       "    </tr>\n",
       "  </thead>\n",
       "  <tbody>\n",
       "    <tr>\n",
       "      <th>0</th>\n",
       "      <td>False</td>\n",
       "      <td>False</td>\n",
       "      <td>False</td>\n",
       "      <td>False</td>\n",
       "      <td>False</td>\n",
       "      <td>False</td>\n",
       "      <td>False</td>\n",
       "    </tr>\n",
       "    <tr>\n",
       "      <th>1</th>\n",
       "      <td>False</td>\n",
       "      <td>False</td>\n",
       "      <td>False</td>\n",
       "      <td>False</td>\n",
       "      <td>False</td>\n",
       "      <td>False</td>\n",
       "      <td>False</td>\n",
       "    </tr>\n",
       "    <tr>\n",
       "      <th>2</th>\n",
       "      <td>False</td>\n",
       "      <td>False</td>\n",
       "      <td>False</td>\n",
       "      <td>False</td>\n",
       "      <td>False</td>\n",
       "      <td>False</td>\n",
       "      <td>False</td>\n",
       "    </tr>\n",
       "    <tr>\n",
       "      <th>3</th>\n",
       "      <td>False</td>\n",
       "      <td>False</td>\n",
       "      <td>False</td>\n",
       "      <td>False</td>\n",
       "      <td>False</td>\n",
       "      <td>False</td>\n",
       "      <td>False</td>\n",
       "    </tr>\n",
       "    <tr>\n",
       "      <th>4</th>\n",
       "      <td>False</td>\n",
       "      <td>False</td>\n",
       "      <td>False</td>\n",
       "      <td>False</td>\n",
       "      <td>False</td>\n",
       "      <td>False</td>\n",
       "      <td>False</td>\n",
       "    </tr>\n",
       "    <tr>\n",
       "      <th>...</th>\n",
       "      <td>...</td>\n",
       "      <td>...</td>\n",
       "      <td>...</td>\n",
       "      <td>...</td>\n",
       "      <td>...</td>\n",
       "      <td>...</td>\n",
       "      <td>...</td>\n",
       "    </tr>\n",
       "    <tr>\n",
       "      <th>13195</th>\n",
       "      <td>False</td>\n",
       "      <td>False</td>\n",
       "      <td>False</td>\n",
       "      <td>False</td>\n",
       "      <td>False</td>\n",
       "      <td>False</td>\n",
       "      <td>False</td>\n",
       "    </tr>\n",
       "    <tr>\n",
       "      <th>13196</th>\n",
       "      <td>False</td>\n",
       "      <td>False</td>\n",
       "      <td>False</td>\n",
       "      <td>False</td>\n",
       "      <td>False</td>\n",
       "      <td>False</td>\n",
       "      <td>False</td>\n",
       "    </tr>\n",
       "    <tr>\n",
       "      <th>13197</th>\n",
       "      <td>False</td>\n",
       "      <td>False</td>\n",
       "      <td>False</td>\n",
       "      <td>False</td>\n",
       "      <td>False</td>\n",
       "      <td>False</td>\n",
       "      <td>False</td>\n",
       "    </tr>\n",
       "    <tr>\n",
       "      <th>13198</th>\n",
       "      <td>False</td>\n",
       "      <td>False</td>\n",
       "      <td>False</td>\n",
       "      <td>False</td>\n",
       "      <td>False</td>\n",
       "      <td>False</td>\n",
       "      <td>False</td>\n",
       "    </tr>\n",
       "    <tr>\n",
       "      <th>13199</th>\n",
       "      <td>False</td>\n",
       "      <td>False</td>\n",
       "      <td>False</td>\n",
       "      <td>False</td>\n",
       "      <td>False</td>\n",
       "      <td>False</td>\n",
       "      <td>False</td>\n",
       "    </tr>\n",
       "  </tbody>\n",
       "</table>\n",
       "<p>13200 rows × 7 columns</p>\n",
       "</div>"
      ],
      "text/plain": [
       "       location   size  total_sqft   bath  price    bhk  price_per_sqft\n",
       "0         False  False       False  False  False  False           False\n",
       "1         False  False       False  False  False  False           False\n",
       "2         False  False       False  False  False  False           False\n",
       "3         False  False       False  False  False  False           False\n",
       "4         False  False       False  False  False  False           False\n",
       "...         ...    ...         ...    ...    ...    ...             ...\n",
       "13195     False  False       False  False  False  False           False\n",
       "13196     False  False       False  False  False  False           False\n",
       "13197     False  False       False  False  False  False           False\n",
       "13198     False  False       False  False  False  False           False\n",
       "13199     False  False       False  False  False  False           False\n",
       "\n",
       "[13200 rows x 7 columns]"
      ]
     },
     "execution_count": 22,
     "metadata": {},
     "output_type": "execute_result"
    }
   ],
   "source": [
    "df.isnull()"
   ]
  },
  {
   "cell_type": "code",
   "execution_count": 23,
   "id": "50865f1b-52ed-45d5-be2d-a8cca079cea7",
   "metadata": {},
   "outputs": [
    {
     "data": {
      "text/plain": [
       "location          0\n",
       "size              0\n",
       "total_sqft        0\n",
       "bath              0\n",
       "price             0\n",
       "bhk               0\n",
       "price_per_sqft    0\n",
       "dtype: int64"
      ]
     },
     "execution_count": 23,
     "metadata": {},
     "output_type": "execute_result"
    }
   ],
   "source": [
    "df.isnull().sum()"
   ]
  },
  {
   "cell_type": "code",
   "execution_count": 24,
   "id": "731ef149-193a-4822-b66b-c252fc813cc0",
   "metadata": {},
   "outputs": [
    {
     "data": {
      "text/plain": [
       "0        False\n",
       "1        False\n",
       "2        False\n",
       "3        False\n",
       "4        False\n",
       "         ...  \n",
       "13195    False\n",
       "13196    False\n",
       "13197    False\n",
       "13198    False\n",
       "13199     True\n",
       "Length: 13200, dtype: bool"
      ]
     },
     "execution_count": 24,
     "metadata": {},
     "output_type": "execute_result"
    }
   ],
   "source": [
    "#handling duplicates\n",
    "df.duplicated()"
   ]
  },
  {
   "cell_type": "code",
   "execution_count": 25,
   "id": "801dcd11-9e24-4aa9-bf42-e9a4ff9f9af5",
   "metadata": {},
   "outputs": [
    {
     "data": {
      "text/plain": [
       "1049"
      ]
     },
     "execution_count": 25,
     "metadata": {},
     "output_type": "execute_result"
    }
   ],
   "source": [
    "df.duplicated().sum()"
   ]
  },
  {
   "cell_type": "code",
   "execution_count": 26,
   "id": "35b7a08d-e718-47ba-b5f2-3f3169ebf4ad",
   "metadata": {},
   "outputs": [],
   "source": [
    "#remove duplicated\n",
    "df=df.drop_duplicates()"
   ]
  },
  {
   "cell_type": "code",
   "execution_count": 27,
   "id": "7beaa7fd-ff6f-45b3-8587-41c748716bc9",
   "metadata": {},
   "outputs": [],
   "source": [
    "df=df.dropna()"
   ]
  },
  {
   "cell_type": "code",
   "execution_count": 28,
   "id": "8d7bc4b3-2552-4997-a084-fcdf5303dd4a",
   "metadata": {},
   "outputs": [
    {
     "data": {
      "text/plain": [
       "location          0\n",
       "size              0\n",
       "total_sqft        0\n",
       "bath              0\n",
       "price             0\n",
       "bhk               0\n",
       "price_per_sqft    0\n",
       "dtype: int64"
      ]
     },
     "execution_count": 28,
     "metadata": {},
     "output_type": "execute_result"
    }
   ],
   "source": [
    "df.isnull().sum()"
   ]
  },
  {
   "cell_type": "code",
   "execution_count": 29,
   "id": "63321b52-6f33-4dba-9843-ccb97db58deb",
   "metadata": {},
   "outputs": [],
   "source": [
    "#2. Detect the outliers using following methods and remove it using methods like trimming / capping/ imputation using mean or median"
   ]
  },
  {
   "cell_type": "code",
   "execution_count": 30,
   "id": "d41a381a-8972-4990-b41f-284c280bad67",
   "metadata": {},
   "outputs": [
    {
     "data": {
      "text/html": [
       "<div>\n",
       "<style scoped>\n",
       "    .dataframe tbody tr th:only-of-type {\n",
       "        vertical-align: middle;\n",
       "    }\n",
       "\n",
       "    .dataframe tbody tr th {\n",
       "        vertical-align: top;\n",
       "    }\n",
       "\n",
       "    .dataframe thead th {\n",
       "        text-align: right;\n",
       "    }\n",
       "</style>\n",
       "<table border=\"1\" class=\"dataframe\">\n",
       "  <thead>\n",
       "    <tr style=\"text-align: right;\">\n",
       "      <th></th>\n",
       "      <th>total_sqft</th>\n",
       "      <th>bath</th>\n",
       "      <th>price</th>\n",
       "      <th>bhk</th>\n",
       "      <th>price_per_sqft</th>\n",
       "    </tr>\n",
       "  </thead>\n",
       "  <tbody>\n",
       "    <tr>\n",
       "      <th>count</th>\n",
       "      <td>12151.000000</td>\n",
       "      <td>12151.000000</td>\n",
       "      <td>12151.000000</td>\n",
       "      <td>12151.000000</td>\n",
       "      <td>1.215100e+04</td>\n",
       "    </tr>\n",
       "    <tr>\n",
       "      <th>mean</th>\n",
       "      <td>1574.846013</td>\n",
       "      <td>2.719941</td>\n",
       "      <td>115.471328</td>\n",
       "      <td>2.827504</td>\n",
       "      <td>8.132642e+03</td>\n",
       "    </tr>\n",
       "    <tr>\n",
       "      <th>std</th>\n",
       "      <td>1277.328354</td>\n",
       "      <td>1.372210</td>\n",
       "      <td>154.094133</td>\n",
       "      <td>1.326540</td>\n",
       "      <td>1.112329e+05</td>\n",
       "    </tr>\n",
       "    <tr>\n",
       "      <th>min</th>\n",
       "      <td>1.000000</td>\n",
       "      <td>1.000000</td>\n",
       "      <td>8.000000</td>\n",
       "      <td>1.000000</td>\n",
       "      <td>2.670000e+02</td>\n",
       "    </tr>\n",
       "    <tr>\n",
       "      <th>25%</th>\n",
       "      <td>1100.000000</td>\n",
       "      <td>2.000000</td>\n",
       "      <td>50.000000</td>\n",
       "      <td>2.000000</td>\n",
       "      <td>4.312000e+03</td>\n",
       "    </tr>\n",
       "    <tr>\n",
       "      <th>50%</th>\n",
       "      <td>1290.000000</td>\n",
       "      <td>2.000000</td>\n",
       "      <td>74.000000</td>\n",
       "      <td>3.000000</td>\n",
       "      <td>5.500000e+03</td>\n",
       "    </tr>\n",
       "    <tr>\n",
       "      <th>75%</th>\n",
       "      <td>1700.000000</td>\n",
       "      <td>3.000000</td>\n",
       "      <td>123.500000</td>\n",
       "      <td>3.000000</td>\n",
       "      <td>7.461000e+03</td>\n",
       "    </tr>\n",
       "    <tr>\n",
       "      <th>max</th>\n",
       "      <td>52272.000000</td>\n",
       "      <td>40.000000</td>\n",
       "      <td>3600.000000</td>\n",
       "      <td>43.000000</td>\n",
       "      <td>1.200000e+07</td>\n",
       "    </tr>\n",
       "  </tbody>\n",
       "</table>\n",
       "</div>"
      ],
      "text/plain": [
       "         total_sqft          bath         price           bhk  price_per_sqft\n",
       "count  12151.000000  12151.000000  12151.000000  12151.000000    1.215100e+04\n",
       "mean    1574.846013      2.719941    115.471328      2.827504    8.132642e+03\n",
       "std     1277.328354      1.372210    154.094133      1.326540    1.112329e+05\n",
       "min        1.000000      1.000000      8.000000      1.000000    2.670000e+02\n",
       "25%     1100.000000      2.000000     50.000000      2.000000    4.312000e+03\n",
       "50%     1290.000000      2.000000     74.000000      3.000000    5.500000e+03\n",
       "75%     1700.000000      3.000000    123.500000      3.000000    7.461000e+03\n",
       "max    52272.000000     40.000000   3600.000000     43.000000    1.200000e+07"
      ]
     },
     "execution_count": 30,
     "metadata": {},
     "output_type": "execute_result"
    }
   ],
   "source": [
    "df.describe()"
   ]
  },
  {
   "cell_type": "code",
   "execution_count": 31,
   "id": "f36faabd-3b5c-4cef-b935-21171e8a5aef",
   "metadata": {},
   "outputs": [],
   "source": [
    "#plot data"
   ]
  },
  {
   "cell_type": "code",
   "execution_count": 32,
   "id": "3653df73-02cd-4c5b-8a3f-164245fe0c8f",
   "metadata": {},
   "outputs": [
    {
     "name": "stderr",
     "output_type": "stream",
     "text": [
      "C:\\Users\\HP\\AppData\\Local\\Temp\\ipykernel_18696\\2186227091.py:1: UserWarning: \n",
      "\n",
      "`distplot` is a deprecated function and will be removed in seaborn v0.14.0.\n",
      "\n",
      "Please adapt your code to use either `displot` (a figure-level function with\n",
      "similar flexibility) or `histplot` (an axes-level function for histograms).\n",
      "\n",
      "For a guide to updating your code to use the new functions, please see\n",
      "https://gist.github.com/mwaskom/de44147ed2974457ad6372750bbe5751\n",
      "\n",
      "  sns.distplot(df['price_per_sqft'])\n"
     ]
    },
    {
     "data": {
      "text/plain": [
       "<Axes: xlabel='price_per_sqft', ylabel='Density'>"
      ]
     },
     "execution_count": 32,
     "metadata": {},
     "output_type": "execute_result"
    },
    {
     "data": {
      "image/png": "[encoded data removed]",
      "text/plain": [
       "<Figure size 640x480 with 1 Axes>"
      ]
     },
     "metadata": {},
     "output_type": "display_data"
    }
   ],
   "source": [
    "sns.distplot(df['price_per_sqft'])"
   ]
  },
  {
   "cell_type": "code",
   "execution_count": 33,
   "id": "2f93a30c-99c5-453a-939b-8e178b46b098",
   "metadata": {},
   "outputs": [
    {
     "data": {
      "text/plain": [
       "<Axes: ylabel='price_per_sqft'>"
      ]
     },
     "execution_count": 33,
     "metadata": {},
     "output_type": "execute_result"
    },
    {
     "data": {
      "image/png": "[encoded data removed]",
      "text/plain": [
       "<Figure size 640x480 with 1 Axes>"
      ]
     },
     "metadata": {},
     "output_type": "display_data"
    }
   ],
   "source": [
    "sns.boxplot(df['price_per_sqft'])"
   ]
  },
  {
   "cell_type": "code",
   "execution_count": 34,
   "id": "1c282338-6ac7-48a5-aecf-52058fa13e7e",
   "metadata": {},
   "outputs": [],
   "source": [
    "#z-squre method"
   ]
  },
  {
   "cell_type": "code",
   "execution_count": 35,
   "id": "0a9e2e8a-e641-44ff-b523-26ff7fca3ae1",
   "metadata": {},
   "outputs": [],
   "source": [
    "#find the limit\n",
    "upper_limit=df['price_per_sqft'].mean()+3*df['price_per_sqft'].std()"
   ]
  },
  {
   "cell_type": "code",
   "execution_count": 36,
   "id": "a9bb972c-b869-4d21-a327-d7c7e0b2636a",
   "metadata": {},
   "outputs": [],
   "source": [
    "lower_limit=df['price_per_sqft'].mean()-3*df['price_per_sqft'].std()"
   ]
  },
  {
   "cell_type": "code",
   "execution_count": 37,
   "id": "1479ebf1-3278-4e5e-bb7f-72369199d537",
   "metadata": {},
   "outputs": [
    {
     "name": "stdout",
     "output_type": "stream",
     "text": [
      "upper_limit: 341831.3445273039\n",
      "lower_limit: -325566.06084694836\n"
     ]
    }
   ],
   "source": [
    "print('upper_limit:',upper_limit)\n",
    "print('lower_limit:',lower_limit)"
   ]
  },
  {
   "cell_type": "code",
   "execution_count": 38,
   "id": "fd3a465b-6d92-432c-be5e-6eaaddb4bab1",
   "metadata": {},
   "outputs": [
    {
     "data": {
      "text/html": [
       "<div>\n",
       "<style scoped>\n",
       "    .dataframe tbody tr th:only-of-type {\n",
       "        vertical-align: middle;\n",
       "    }\n",
       "\n",
       "    .dataframe tbody tr th {\n",
       "        vertical-align: top;\n",
       "    }\n",
       "\n",
       "    .dataframe thead th {\n",
       "        text-align: right;\n",
       "    }\n",
       "</style>\n",
       "<table border=\"1\" class=\"dataframe\">\n",
       "  <thead>\n",
       "    <tr style=\"text-align: right;\">\n",
       "      <th></th>\n",
       "      <th>location</th>\n",
       "      <th>size</th>\n",
       "      <th>total_sqft</th>\n",
       "      <th>bath</th>\n",
       "      <th>price</th>\n",
       "      <th>bhk</th>\n",
       "      <th>price_per_sqft</th>\n",
       "    </tr>\n",
       "  </thead>\n",
       "  <tbody>\n",
       "    <tr>\n",
       "      <th>345</th>\n",
       "      <td>other</td>\n",
       "      <td>3 Bedroom</td>\n",
       "      <td>11.0</td>\n",
       "      <td>3.0</td>\n",
       "      <td>74.0</td>\n",
       "      <td>3</td>\n",
       "      <td>672727</td>\n",
       "    </tr>\n",
       "    <tr>\n",
       "      <th>1106</th>\n",
       "      <td>other</td>\n",
       "      <td>5 Bedroom</td>\n",
       "      <td>24.0</td>\n",
       "      <td>2.0</td>\n",
       "      <td>150.0</td>\n",
       "      <td>5</td>\n",
       "      <td>625000</td>\n",
       "    </tr>\n",
       "    <tr>\n",
       "      <th>4044</th>\n",
       "      <td>Sarjapur  Road</td>\n",
       "      <td>4 Bedroom</td>\n",
       "      <td>1.0</td>\n",
       "      <td>4.0</td>\n",
       "      <td>120.0</td>\n",
       "      <td>4</td>\n",
       "      <td>12000000</td>\n",
       "    </tr>\n",
       "    <tr>\n",
       "      <th>4924</th>\n",
       "      <td>other</td>\n",
       "      <td>7 BHK</td>\n",
       "      <td>5.0</td>\n",
       "      <td>7.0</td>\n",
       "      <td>115.0</td>\n",
       "      <td>7</td>\n",
       "      <td>2300000</td>\n",
       "    </tr>\n",
       "    <tr>\n",
       "      <th>11447</th>\n",
       "      <td>Whitefield</td>\n",
       "      <td>4 Bedroom</td>\n",
       "      <td>60.0</td>\n",
       "      <td>4.0</td>\n",
       "      <td>218.0</td>\n",
       "      <td>4</td>\n",
       "      <td>363333</td>\n",
       "    </tr>\n",
       "  </tbody>\n",
       "</table>\n",
       "</div>"
      ],
      "text/plain": [
       "             location       size  total_sqft  bath  price  bhk  price_per_sqft\n",
       "345             other  3 Bedroom        11.0   3.0   74.0    3          672727\n",
       "1106            other  5 Bedroom        24.0   2.0  150.0    5          625000\n",
       "4044   Sarjapur  Road  4 Bedroom         1.0   4.0  120.0    4        12000000\n",
       "4924            other      7 BHK         5.0   7.0  115.0    7         2300000\n",
       "11447      Whitefield  4 Bedroom        60.0   4.0  218.0    4          363333"
      ]
     },
     "execution_count": 38,
     "metadata": {},
     "output_type": "execute_result"
    }
   ],
   "source": [
    "#find the outliers\n",
    "df.loc[(df['price_per_sqft'] > upper_limit) | (df['price_per_sqft'] < lower_limit)]"
   ]
  },
  {
   "cell_type": "code",
   "execution_count": 39,
   "id": "fd46ea65-9a76-4772-982a-f867579d7f7b",
   "metadata": {},
   "outputs": [],
   "source": [
    "#outlayer(trimming-delete the outlayer data)"
   ]
  },
  {
   "cell_type": "code",
   "execution_count": 40,
   "id": "c11f7873-0205-4eeb-921d-c30e55ee018d",
   "metadata": {},
   "outputs": [],
   "source": [
    "new_df=df.loc[(df['price_per_sqft'] < upper_limit) | (df['price_per_sqft'] > lower_limit)]"
   ]
  },
  {
   "cell_type": "code",
   "execution_count": 41,
   "id": "459da845-5ea1-4513-9103-3732c106038b",
   "metadata": {},
   "outputs": [
    {
     "name": "stdout",
     "output_type": "stream",
     "text": [
      "old_data: 12151\n",
      "new_data: 12151\n",
      "outliers: 0\n"
     ]
    }
   ],
   "source": [
    "print('old_data:',len(df))\n",
    "print('new_data:',len(new_df))\n",
    "print('outliers:',len(df)-len(new_df))"
   ]
  },
  {
   "cell_type": "code",
   "execution_count": 42,
   "id": "95db20e9-a023-4efc-a457-7c1c94598f98",
   "metadata": {},
   "outputs": [
    {
     "data": {
      "text/plain": [
       "<Axes: ylabel='price_per_sqft'>"
      ]
     },
     "execution_count": 42,
     "metadata": {},
     "output_type": "execute_result"
    },
    {
     "data": {
      "image/png": "[encoded data removed]",
      "text/plain": [
       "<Figure size 640x480 with 1 Axes>"
      ]
     },
     "metadata": {},
     "output_type": "display_data"
    }
   ],
   "source": [
    "sns.boxplot(new_df['price_per_sqft'])"
   ]
  },
  {
   "cell_type": "code",
   "execution_count": 43,
   "id": "922f2256-8d2e-4c0e-8739-585d6e058a26",
   "metadata": {},
   "outputs": [],
   "source": [
    "#capping(changing the outliers)\n",
    "#values to upper or lower limit values\n"
   ]
  },
  {
   "cell_type": "code",
   "execution_count": 44,
   "id": "eb4b62b9-2e50-410d-95a7-181985e56dc6",
   "metadata": {},
   "outputs": [],
   "source": [
    "new_df = df.copy()"
   ]
  },
  {
   "cell_type": "code",
   "execution_count": 45,
   "id": "a70d614f-9ff3-4571-a385-50e4162dcc60",
   "metadata": {},
   "outputs": [
    {
     "name": "stderr",
     "output_type": "stream",
     "text": [
      "C:\\Users\\HP\\AppData\\Local\\Temp\\ipykernel_18696\\2750711326.py:1: FutureWarning: Setting an item of incompatible dtype is deprecated and will raise an error in a future version of pandas. Value '341831.3445273039' has dtype incompatible with int64, please explicitly cast to a compatible dtype first.\n",
      "  new_df.loc[new_df['price_per_sqft'] > upper_limit,'price_per_sqft'] = upper_limit\n"
     ]
    }
   ],
   "source": [
    "new_df.loc[new_df['price_per_sqft'] > upper_limit,'price_per_sqft'] = upper_limit\n",
    "new_df.loc[new_df['price_per_sqft'] < lower_limit,'price_per_sqft'] = lower_limit"
   ]
  },
  {
   "cell_type": "code",
   "execution_count": 46,
   "id": "bdcaa1d3-a6f8-49af-9844-003d68f8eebf",
   "metadata": {},
   "outputs": [
    {
     "data": {
      "text/plain": [
       "<Axes: ylabel='price_per_sqft'>"
      ]
     },
     "execution_count": 46,
     "metadata": {},
     "output_type": "execute_result"
    },
    {
     "data": {
      "image/png": "[encoded data removed]",
      "text/plain": [
       "<Figure size 640x480 with 1 Axes>"
      ]
     },
     "metadata": {},
     "output_type": "display_data"
    }
   ],
   "source": [
    "#display the data\n",
    "sns.boxplot(new_df['price_per_sqft'])"
   ]
  },
  {
   "cell_type": "code",
   "execution_count": 47,
   "id": "66c32162-544d-45af-a834-de867eecd06b",
   "metadata": {},
   "outputs": [
    {
     "data": {
      "text/plain": [
       "12151"
      ]
     },
     "execution_count": 47,
     "metadata": {},
     "output_type": "execute_result"
    }
   ],
   "source": [
    "len(new_df)"
   ]
  },
  {
   "cell_type": "code",
   "execution_count": 48,
   "id": "4a2b31a8-0221-4540-b9be-aef60e03909d",
   "metadata": {},
   "outputs": [],
   "source": [
    "#IQR(q3-q1)\n"
   ]
  },
  {
   "cell_type": "code",
   "execution_count": 49,
   "id": "b86df316-abac-483e-8f04-9adb16ea83f3",
   "metadata": {},
   "outputs": [],
   "source": [
    "q1=df['price_per_sqft'].quantile(0.25)"
   ]
  },
  {
   "cell_type": "code",
   "execution_count": 50,
   "id": "e1a5f599-f747-42c4-aa70-0c0978fd44e1",
   "metadata": {},
   "outputs": [],
   "source": [
    "q3=df['price_per_sqft'].quantile(0.75)"
   ]
  },
  {
   "cell_type": "code",
   "execution_count": 51,
   "id": "f67b5c50-5a00-4098-a90b-c411530ee364",
   "metadata": {},
   "outputs": [],
   "source": [
    "iqr=q3-q1"
   ]
  },
  {
   "cell_type": "code",
   "execution_count": 52,
   "id": "e8bb1c2c-d90e-4618-8575-99a734149c54",
   "metadata": {},
   "outputs": [
    {
     "data": {
      "text/plain": [
       "(4312.0, 7461.0, 3149.0)"
      ]
     },
     "execution_count": 52,
     "metadata": {},
     "output_type": "execute_result"
    }
   ],
   "source": [
    "q1,q3,iqr"
   ]
  },
  {
   "cell_type": "code",
   "execution_count": 53,
   "id": "296a4c51-0194-4015-9613-ec8cc16caacd",
   "metadata": {},
   "outputs": [
    {
     "data": {
      "text/plain": [
       "(-411.5, 12184.5)"
      ]
     },
     "execution_count": 53,
     "metadata": {},
     "output_type": "execute_result"
    }
   ],
   "source": [
    "upper_limit=q3+(1.5*iqr)\n",
    "lower_limit=q1-(1.5*iqr)\n",
    "lower_limit,upper_limit"
   ]
  },
  {
   "cell_type": "code",
   "execution_count": 54,
   "id": "8216d077-c660-412d-abeb-da5a4c38df21",
   "metadata": {},
   "outputs": [
    {
     "data": {
      "text/plain": [
       "<Axes: ylabel='price_per_sqft'>"
      ]
     },
     "execution_count": 54,
     "metadata": {},
     "output_type": "execute_result"
    },
    {
     "data": {
      "image/png": "[encoded data removed]",
      "text/plain": [
       "<Figure size 640x480 with 1 Axes>"
      ]
     },
     "metadata": {},
     "output_type": "display_data"
    }
   ],
   "source": [
    "#plot the data again\n",
    "sns.boxplot(df['price_per_sqft'])"
   ]
  },
  {
   "cell_type": "code",
   "execution_count": 55,
   "id": "24300d12-6354-43df-b7da-cc3a471b137e",
   "metadata": {},
   "outputs": [],
   "source": [
    "#find the outliers\n"
   ]
  },
  {
   "cell_type": "code",
   "execution_count": 56,
   "id": "13c0c56b-36f0-42ea-b811-e67b8d9e2a6d",
   "metadata": {},
   "outputs": [
    {
     "data": {
      "text/html": [
       "<div>\n",
       "<style scoped>\n",
       "    .dataframe tbody tr th:only-of-type {\n",
       "        vertical-align: middle;\n",
       "    }\n",
       "\n",
       "    .dataframe tbody tr th {\n",
       "        vertical-align: top;\n",
       "    }\n",
       "\n",
       "    .dataframe thead th {\n",
       "        text-align: right;\n",
       "    }\n",
       "</style>\n",
       "<table border=\"1\" class=\"dataframe\">\n",
       "  <thead>\n",
       "    <tr style=\"text-align: right;\">\n",
       "      <th></th>\n",
       "      <th>location</th>\n",
       "      <th>size</th>\n",
       "      <th>total_sqft</th>\n",
       "      <th>bath</th>\n",
       "      <th>price</th>\n",
       "      <th>bhk</th>\n",
       "      <th>price_per_sqft</th>\n",
       "    </tr>\n",
       "  </thead>\n",
       "  <tbody>\n",
       "    <tr>\n",
       "      <th>7</th>\n",
       "      <td>Rajaji Nagar</td>\n",
       "      <td>4 BHK</td>\n",
       "      <td>3300.0</td>\n",
       "      <td>4.0</td>\n",
       "      <td>600.0</td>\n",
       "      <td>4</td>\n",
       "      <td>18181</td>\n",
       "    </tr>\n",
       "    <tr>\n",
       "      <th>9</th>\n",
       "      <td>other</td>\n",
       "      <td>6 Bedroom</td>\n",
       "      <td>1020.0</td>\n",
       "      <td>6.0</td>\n",
       "      <td>370.0</td>\n",
       "      <td>6</td>\n",
       "      <td>36274</td>\n",
       "    </tr>\n",
       "    <tr>\n",
       "      <th>22</th>\n",
       "      <td>Thanisandra</td>\n",
       "      <td>4 Bedroom</td>\n",
       "      <td>2800.0</td>\n",
       "      <td>5.0</td>\n",
       "      <td>380.0</td>\n",
       "      <td>4</td>\n",
       "      <td>13571</td>\n",
       "    </tr>\n",
       "    <tr>\n",
       "      <th>45</th>\n",
       "      <td>HSR Layout</td>\n",
       "      <td>8 Bedroom</td>\n",
       "      <td>600.0</td>\n",
       "      <td>9.0</td>\n",
       "      <td>200.0</td>\n",
       "      <td>8</td>\n",
       "      <td>33333</td>\n",
       "    </tr>\n",
       "    <tr>\n",
       "      <th>48</th>\n",
       "      <td>KR Puram</td>\n",
       "      <td>2 Bedroom</td>\n",
       "      <td>800.0</td>\n",
       "      <td>1.0</td>\n",
       "      <td>130.0</td>\n",
       "      <td>2</td>\n",
       "      <td>16250</td>\n",
       "    </tr>\n",
       "    <tr>\n",
       "      <th>...</th>\n",
       "      <td>...</td>\n",
       "      <td>...</td>\n",
       "      <td>...</td>\n",
       "      <td>...</td>\n",
       "      <td>...</td>\n",
       "      <td>...</td>\n",
       "      <td>...</td>\n",
       "    </tr>\n",
       "    <tr>\n",
       "      <th>13114</th>\n",
       "      <td>other</td>\n",
       "      <td>3 BHK</td>\n",
       "      <td>1903.0</td>\n",
       "      <td>2.0</td>\n",
       "      <td>293.0</td>\n",
       "      <td>3</td>\n",
       "      <td>15396</td>\n",
       "    </tr>\n",
       "    <tr>\n",
       "      <th>13141</th>\n",
       "      <td>other</td>\n",
       "      <td>3 Bedroom</td>\n",
       "      <td>2000.0</td>\n",
       "      <td>2.0</td>\n",
       "      <td>360.0</td>\n",
       "      <td>3</td>\n",
       "      <td>18000</td>\n",
       "    </tr>\n",
       "    <tr>\n",
       "      <th>13142</th>\n",
       "      <td>other</td>\n",
       "      <td>2 BHK</td>\n",
       "      <td>1140.0</td>\n",
       "      <td>1.0</td>\n",
       "      <td>185.0</td>\n",
       "      <td>2</td>\n",
       "      <td>16228</td>\n",
       "    </tr>\n",
       "    <tr>\n",
       "      <th>13157</th>\n",
       "      <td>other</td>\n",
       "      <td>7 Bedroom</td>\n",
       "      <td>1400.0</td>\n",
       "      <td>7.0</td>\n",
       "      <td>218.0</td>\n",
       "      <td>7</td>\n",
       "      <td>15571</td>\n",
       "    </tr>\n",
       "    <tr>\n",
       "      <th>13185</th>\n",
       "      <td>Hulimavu</td>\n",
       "      <td>1 BHK</td>\n",
       "      <td>500.0</td>\n",
       "      <td>1.0</td>\n",
       "      <td>220.0</td>\n",
       "      <td>1</td>\n",
       "      <td>44000</td>\n",
       "    </tr>\n",
       "  </tbody>\n",
       "</table>\n",
       "<p>1142 rows × 7 columns</p>\n",
       "</div>"
      ],
      "text/plain": [
       "           location       size  total_sqft  bath  price  bhk  price_per_sqft\n",
       "7      Rajaji Nagar      4 BHK      3300.0   4.0  600.0    4           18181\n",
       "9             other  6 Bedroom      1020.0   6.0  370.0    6           36274\n",
       "22      Thanisandra  4 Bedroom      2800.0   5.0  380.0    4           13571\n",
       "45       HSR Layout  8 Bedroom       600.0   9.0  200.0    8           33333\n",
       "48         KR Puram  2 Bedroom       800.0   1.0  130.0    2           16250\n",
       "...             ...        ...         ...   ...    ...  ...             ...\n",
       "13114         other      3 BHK      1903.0   2.0  293.0    3           15396\n",
       "13141         other  3 Bedroom      2000.0   2.0  360.0    3           18000\n",
       "13142         other      2 BHK      1140.0   1.0  185.0    2           16228\n",
       "13157         other  7 Bedroom      1400.0   7.0  218.0    7           15571\n",
       "13185      Hulimavu      1 BHK       500.0   1.0  220.0    1           44000\n",
       "\n",
       "[1142 rows x 7 columns]"
      ]
     },
     "execution_count": 56,
     "metadata": {},
     "output_type": "execute_result"
    }
   ],
   "source": [
    "df.loc[(df['price_per_sqft'] > upper_limit) | (df['price_per_sqft'] < lower_limit)]"
   ]
  },
  {
   "cell_type": "code",
   "execution_count": 57,
   "id": "0632d76b-b412-4661-b5b4-290b17e4f1c6",
   "metadata": {},
   "outputs": [],
   "source": [
    "#trim the data"
   ]
  },
  {
   "cell_type": "code",
   "execution_count": 58,
   "id": "ad0d8180-e465-4de4-bbf1-12b08386fe33",
   "metadata": {},
   "outputs": [],
   "source": [
    "new_df = df.loc[(df['price_per_sqft'] <upper_limit) &(df['price_per_sqft'] > lower_limit)]"
   ]
  },
  {
   "cell_type": "code",
   "execution_count": 59,
   "id": "1139ff17-179f-4a38-b347-298414bf573b",
   "metadata": {},
   "outputs": [
    {
     "name": "stdout",
     "output_type": "stream",
     "text": [
      "before removing outliters: 12151\n"
     ]
    }
   ],
   "source": [
    "print('before removing outliters:',len(df))"
   ]
  },
  {
   "cell_type": "code",
   "execution_count": 60,
   "id": "a82f5b11-3b95-462c-ae85-618e11afeca2",
   "metadata": {},
   "outputs": [
    {
     "name": "stdout",
     "output_type": "stream",
     "text": [
      "after removing outliers 11009\n"
     ]
    }
   ],
   "source": [
    "print('after removing outliers',len(new_df))"
   ]
  },
  {
   "cell_type": "code",
   "execution_count": 61,
   "id": "1388822e-8180-4545-936e-f82b18ad5a80",
   "metadata": {},
   "outputs": [
    {
     "name": "stdout",
     "output_type": "stream",
     "text": [
      "outlier: 1142\n"
     ]
    }
   ],
   "source": [
    "print('outlier:',len(df)-len(new_df))"
   ]
  },
  {
   "cell_type": "code",
   "execution_count": 62,
   "id": "3e2ad903-833e-491e-9b58-9928c0acdf54",
   "metadata": {},
   "outputs": [
    {
     "data": {
      "text/plain": [
       "<Axes: ylabel='price_per_sqft'>"
      ]
     },
     "execution_count": 62,
     "metadata": {},
     "output_type": "execute_result"
    },
    {
     "data": {
      "image/png": "[encoded data removed]",
      "text/plain": [
       "<Figure size 640x480 with 1 Axes>"
      ]
     },
     "metadata": {},
     "output_type": "display_data"
    }
   ],
   "source": [
    "sns.boxplot(new_df['price_per_sqft'])"
   ]
  },
  {
   "cell_type": "code",
   "execution_count": 63,
   "id": "0478d93f-07ea-41c1-a63f-9ee646b872a4",
   "metadata": {},
   "outputs": [
    {
     "name": "stderr",
     "output_type": "stream",
     "text": [
      "C:\\Users\\HP\\AppData\\Local\\Temp\\ipykernel_18696\\3539802482.py:3: FutureWarning: Setting an item of incompatible dtype is deprecated and will raise an error in a future version of pandas. Value '12184.5' has dtype incompatible with int64, please explicitly cast to a compatible dtype first.\n",
      "  new_df.loc[(new_df['price_per_sqft'] > upper_limit),'price_per_sqft']=upper_limit\n"
     ]
    }
   ],
   "source": [
    "#capping(change the outliers values to upper or lower limit values)\n",
    "new_df = df.copy()\n",
    "new_df.loc[(new_df['price_per_sqft'] > upper_limit),'price_per_sqft']=upper_limit"
   ]
  },
  {
   "cell_type": "code",
   "execution_count": 64,
   "id": "14fa6baf-abdb-4c91-b027-07ba32905a2e",
   "metadata": {},
   "outputs": [],
   "source": [
    "new_df.loc[(new_df['price_per_sqft'] < lower_limit),'price_per_sqft']= lower_limit\n"
   ]
  },
  {
   "cell_type": "code",
   "execution_count": 65,
   "id": "ab8f72b2-62b9-4e52-98af-cb9897f34e81",
   "metadata": {},
   "outputs": [
    {
     "data": {
      "text/plain": [
       "<Axes: ylabel='price_per_sqft'>"
      ]
     },
     "execution_count": 65,
     "metadata": {},
     "output_type": "execute_result"
    },
    {
     "data": {
      "image/png": "[encoded data removed]",
      "text/plain": [
       "<Figure size 640x480 with 1 Axes>"
      ]
     },
     "metadata": {},
     "output_type": "display_data"
    }
   ],
   "source": [
    "sns.boxplot(new_df['price_per_sqft'])"
   ]
  },
  {
   "cell_type": "code",
   "execution_count": 66,
   "id": "32a1bdd1-cfbc-41aa-bb59-740b223aa873",
   "metadata": {},
   "outputs": [],
   "source": [
    "#percentile method"
   ]
  },
  {
   "cell_type": "code",
   "execution_count": 67,
   "id": "c14f1088-51ec-47e6-a586-a663546d9864",
   "metadata": {},
   "outputs": [],
   "source": [
    "upper_limit=df['price_per_sqft'].quantile(0.99)"
   ]
  },
  {
   "cell_type": "code",
   "execution_count": 68,
   "id": "450f7103-c30b-4b03-8af5-e2b50d972aae",
   "metadata": {},
   "outputs": [],
   "source": [
    "lower_limit=df['price_per_sqft'].quantile(0.01)"
   ]
  },
  {
   "cell_type": "code",
   "execution_count": 69,
   "id": "6b293fc2-345f-4989-9daa-f8f1cd837c3a",
   "metadata": {},
   "outputs": [
    {
     "name": "stdout",
     "output_type": "stream",
     "text": [
      "lower limit: 2532.0\n"
     ]
    }
   ],
   "source": [
    "print('lower limit:',lower_limit)"
   ]
  },
  {
   "cell_type": "code",
   "execution_count": 70,
   "id": "d0fa4b32-4e05-4575-95d2-4d16b62585a0",
   "metadata": {},
   "outputs": [
    {
     "name": "stdout",
     "output_type": "stream",
     "text": [
      "upper_limit: 24000.0\n"
     ]
    }
   ],
   "source": [
    "print('upper_limit:',upper_limit)"
   ]
  },
  {
   "cell_type": "code",
   "execution_count": 71,
   "id": "99033cd2-6e9f-4cd7-98f2-d336cd19c837",
   "metadata": {},
   "outputs": [
    {
     "name": "stdout",
     "output_type": "stream",
     "text": [
      "24000.0 2532.0\n"
     ]
    }
   ],
   "source": [
    "print(upper_limit,lower_limit)"
   ]
  },
  {
   "cell_type": "code",
   "execution_count": 72,
   "id": "9edd2d0e-e9c1-4e33-8082-f4a686391438",
   "metadata": {},
   "outputs": [
    {
     "data": {
      "text/plain": [
       "<Axes: ylabel='price_per_sqft'>"
      ]
     },
     "execution_count": 72,
     "metadata": {},
     "output_type": "execute_result"
    },
    {
     "data": {
      "image/png": "[encoded data removed]",
      "text/plain": [
       "<Figure size 640x480 with 1 Axes>"
      ]
     },
     "metadata": {},
     "output_type": "display_data"
    }
   ],
   "source": [
    "sns.boxplot(new_df['price_per_sqft'])"
   ]
  },
  {
   "cell_type": "code",
   "execution_count": 73,
   "id": "c7f197d2-4664-4975-ad32-012e897fb9b0",
   "metadata": {},
   "outputs": [
    {
     "data": {
      "text/html": [
       "<div>\n",
       "<style scoped>\n",
       "    .dataframe tbody tr th:only-of-type {\n",
       "        vertical-align: middle;\n",
       "    }\n",
       "\n",
       "    .dataframe tbody tr th {\n",
       "        vertical-align: top;\n",
       "    }\n",
       "\n",
       "    .dataframe thead th {\n",
       "        text-align: right;\n",
       "    }\n",
       "</style>\n",
       "<table border=\"1\" class=\"dataframe\">\n",
       "  <thead>\n",
       "    <tr style=\"text-align: right;\">\n",
       "      <th></th>\n",
       "      <th>location</th>\n",
       "      <th>size</th>\n",
       "      <th>total_sqft</th>\n",
       "      <th>bath</th>\n",
       "      <th>price</th>\n",
       "      <th>bhk</th>\n",
       "      <th>price_per_sqft</th>\n",
       "    </tr>\n",
       "  </thead>\n",
       "  <tbody>\n",
       "    <tr>\n",
       "      <th>9</th>\n",
       "      <td>other</td>\n",
       "      <td>6 Bedroom</td>\n",
       "      <td>1020.0</td>\n",
       "      <td>6.0</td>\n",
       "      <td>370.0</td>\n",
       "      <td>6</td>\n",
       "      <td>36274</td>\n",
       "    </tr>\n",
       "    <tr>\n",
       "      <th>20</th>\n",
       "      <td>Kengeri</td>\n",
       "      <td>1 BHK</td>\n",
       "      <td>600.0</td>\n",
       "      <td>1.0</td>\n",
       "      <td>15.0</td>\n",
       "      <td>1</td>\n",
       "      <td>2500</td>\n",
       "    </tr>\n",
       "    <tr>\n",
       "      <th>45</th>\n",
       "      <td>HSR Layout</td>\n",
       "      <td>8 Bedroom</td>\n",
       "      <td>600.0</td>\n",
       "      <td>9.0</td>\n",
       "      <td>200.0</td>\n",
       "      <td>8</td>\n",
       "      <td>33333</td>\n",
       "    </tr>\n",
       "    <tr>\n",
       "      <th>130</th>\n",
       "      <td>Electronic City</td>\n",
       "      <td>2 BHK</td>\n",
       "      <td>880.0</td>\n",
       "      <td>1.0</td>\n",
       "      <td>16.5</td>\n",
       "      <td>2</td>\n",
       "      <td>1875</td>\n",
       "    </tr>\n",
       "    <tr>\n",
       "      <th>169</th>\n",
       "      <td>Attibele</td>\n",
       "      <td>1 BHK</td>\n",
       "      <td>450.0</td>\n",
       "      <td>1.0</td>\n",
       "      <td>11.0</td>\n",
       "      <td>1</td>\n",
       "      <td>2444</td>\n",
       "    </tr>\n",
       "    <tr>\n",
       "      <th>...</th>\n",
       "      <td>...</td>\n",
       "      <td>...</td>\n",
       "      <td>...</td>\n",
       "      <td>...</td>\n",
       "      <td>...</td>\n",
       "      <td>...</td>\n",
       "      <td>...</td>\n",
       "    </tr>\n",
       "    <tr>\n",
       "      <th>12948</th>\n",
       "      <td>other</td>\n",
       "      <td>10 Bedroom</td>\n",
       "      <td>7150.0</td>\n",
       "      <td>13.0</td>\n",
       "      <td>3600.0</td>\n",
       "      <td>10</td>\n",
       "      <td>50349</td>\n",
       "    </tr>\n",
       "    <tr>\n",
       "      <th>13013</th>\n",
       "      <td>other</td>\n",
       "      <td>4 Bedroom</td>\n",
       "      <td>1200.0</td>\n",
       "      <td>5.0</td>\n",
       "      <td>350.0</td>\n",
       "      <td>4</td>\n",
       "      <td>29166</td>\n",
       "    </tr>\n",
       "    <tr>\n",
       "      <th>13078</th>\n",
       "      <td>other</td>\n",
       "      <td>4 Bedroom</td>\n",
       "      <td>9200.0</td>\n",
       "      <td>4.0</td>\n",
       "      <td>2600.0</td>\n",
       "      <td>4</td>\n",
       "      <td>28260</td>\n",
       "    </tr>\n",
       "    <tr>\n",
       "      <th>13081</th>\n",
       "      <td>other</td>\n",
       "      <td>6 Bedroom</td>\n",
       "      <td>8000.0</td>\n",
       "      <td>6.0</td>\n",
       "      <td>2800.0</td>\n",
       "      <td>6</td>\n",
       "      <td>35000</td>\n",
       "    </tr>\n",
       "    <tr>\n",
       "      <th>13185</th>\n",
       "      <td>Hulimavu</td>\n",
       "      <td>1 BHK</td>\n",
       "      <td>500.0</td>\n",
       "      <td>1.0</td>\n",
       "      <td>220.0</td>\n",
       "      <td>1</td>\n",
       "      <td>44000</td>\n",
       "    </tr>\n",
       "  </tbody>\n",
       "</table>\n",
       "<p>243 rows × 7 columns</p>\n",
       "</div>"
      ],
      "text/plain": [
       "              location        size  total_sqft  bath   price  bhk  \\\n",
       "9                other   6 Bedroom      1020.0   6.0   370.0    6   \n",
       "20             Kengeri       1 BHK       600.0   1.0    15.0    1   \n",
       "45          HSR Layout   8 Bedroom       600.0   9.0   200.0    8   \n",
       "130    Electronic City       2 BHK       880.0   1.0    16.5    2   \n",
       "169           Attibele       1 BHK       450.0   1.0    11.0    1   \n",
       "...                ...         ...         ...   ...     ...  ...   \n",
       "12948            other  10 Bedroom      7150.0  13.0  3600.0   10   \n",
       "13013            other   4 Bedroom      1200.0   5.0   350.0    4   \n",
       "13078            other   4 Bedroom      9200.0   4.0  2600.0    4   \n",
       "13081            other   6 Bedroom      8000.0   6.0  2800.0    6   \n",
       "13185         Hulimavu       1 BHK       500.0   1.0   220.0    1   \n",
       "\n",
       "       price_per_sqft  \n",
       "9               36274  \n",
       "20               2500  \n",
       "45              33333  \n",
       "130              1875  \n",
       "169              2444  \n",
       "...               ...  \n",
       "12948           50349  \n",
       "13013           29166  \n",
       "13078           28260  \n",
       "13081           35000  \n",
       "13185           44000  \n",
       "\n",
       "[243 rows x 7 columns]"
      ]
     },
     "execution_count": 73,
     "metadata": {},
     "output_type": "execute_result"
    }
   ],
   "source": [
    "#find the outliers\n",
    "df.loc[(df['price_per_sqft'] > upper_limit) | (df['price_per_sqft'] < lower_limit)]"
   ]
  },
  {
   "cell_type": "code",
   "execution_count": 74,
   "id": "6f71e13d-8354-4694-9ad4-2f5f5ac66cde",
   "metadata": {},
   "outputs": [],
   "source": [
    "#trimming"
   ]
  },
  {
   "cell_type": "code",
   "execution_count": 75,
   "id": "91b8538b-8450-49e9-921d-7602a7c6da21",
   "metadata": {},
   "outputs": [],
   "source": [
    "new_df = df.loc[(df['price_per_sqft'] <upper_limit) &(df['price_per_sqft'] > lower_limit)]"
   ]
  },
  {
   "cell_type": "code",
   "execution_count": 76,
   "id": "42f6e309-f7e7-4db9-bf0d-3cf6d2e2e871",
   "metadata": {},
   "outputs": [
    {
     "name": "stdout",
     "output_type": "stream",
     "text": [
      "before removing outliers: 12151\n"
     ]
    }
   ],
   "source": [
    "print('before removing outliers:',len(df))"
   ]
  },
  {
   "cell_type": "code",
   "execution_count": 77,
   "id": "a08aa37f-0cc9-4e6b-b657-9e2dc9acea50",
   "metadata": {},
   "outputs": [
    {
     "name": "stdout",
     "output_type": "stream",
     "text": [
      "after removing outliers: 11905\n"
     ]
    }
   ],
   "source": [
    "print('after removing outliers:',len(new_df))"
   ]
  },
  {
   "cell_type": "code",
   "execution_count": 78,
   "id": "3ffc096d-3f37-43d6-a99a-e7690399b77d",
   "metadata": {},
   "outputs": [
    {
     "name": "stdout",
     "output_type": "stream",
     "text": [
      "outliers: 246\n"
     ]
    }
   ],
   "source": [
    "print('outliers:',len(df)-len(new_df))"
   ]
  },
  {
   "cell_type": "code",
   "execution_count": 79,
   "id": "c7865251-864f-4c9e-be5d-70d286c732dd",
   "metadata": {},
   "outputs": [],
   "source": [
    "#capping"
   ]
  },
  {
   "cell_type": "code",
   "execution_count": 80,
   "id": "77388687-a05d-48d8-8f26-902e3a279f36",
   "metadata": {},
   "outputs": [],
   "source": [
    "new_df=df.copy()"
   ]
  },
  {
   "cell_type": "code",
   "execution_count": 81,
   "id": "3cf8a7de-eeff-446a-b670-9e791de4d81b",
   "metadata": {},
   "outputs": [],
   "source": [
    "new_df.loc[(new_df['price_per_sqft']> upper_limit),'price_per_sqft'] = upper_limit"
   ]
  },
  {
   "cell_type": "code",
   "execution_count": 82,
   "id": "5189be33-8bfd-4e68-a7c7-84107742cdbe",
   "metadata": {},
   "outputs": [],
   "source": [
    "new_df.loc[(new_df['price_per_sqft'] < lower_limit),'price_per_sqft'] = lower_limit"
   ]
  },
  {
   "cell_type": "code",
   "execution_count": 83,
   "id": "af89761b-7ef0-473a-8d32-802c486f3a1c",
   "metadata": {},
   "outputs": [
    {
     "data": {
      "text/plain": [
       "<Axes: ylabel='price_per_sqft'>"
      ]
     },
     "execution_count": 83,
     "metadata": {},
     "output_type": "execute_result"
    },
    {
     "data": {
      "image/png": "[encoded data removed]",
      "text/plain": [
       "<Figure size 640x480 with 1 Axes>"
      ]
     },
     "metadata": {},
     "output_type": "display_data"
    }
   ],
   "source": [
    "sns.boxplot(new_df['price_per_sqft'])"
   ]
  },
  {
   "cell_type": "code",
   "execution_count": 84,
   "id": "47264632-33f8-415f-b23d-9c8e91b4ba63",
   "metadata": {},
   "outputs": [],
   "source": [
    "#3.Create a box plot and use this to determine which method seems to work best to remove outliers for this data?"
   ]
  },
  {
   "cell_type": "code",
   "execution_count": 98,
   "id": "0d4622a5-8d92-4f60-b5f9-e26694fbca19",
   "metadata": {},
   "outputs": [],
   "source": [
    " # Define upper and lower limits based on quantiles\n",
    "upper_limit = df['price_per_sqft'].quantile(0.95)\n",
    "lower_limit = df['price_per_sqft'].quantile(0.05)\n",
    "\n"
   ]
  },
  {
   "cell_type": "code",
   "execution_count": 99,
   "id": "f0968fa3-71ab-4cc2-a8b1-bae8501c2d48",
   "metadata": {},
   "outputs": [],
   "source": [
    "# Create the trimmed DataFrame (excludes values outside limits)\n",
    "df_trimmed = df[(df['price_per_sqft'] < upper_limit) & (df['price_per_sqft'] > lower_limit)]\n"
   ]
  },
  {
   "cell_type": "code",
   "execution_count": 100,
   "id": "e4bc8b1e-1605-4f0e-a543-63032efcc0bf",
   "metadata": {},
   "outputs": [],
   "source": [
    "# Create the capped DataFrame (replaces outliers with limits)\n",
    "df_capped = df.copy()\n",
    "df_capped.loc[df_capped['price_per_sqft'] > upper_limit, 'price_per_sqft'] = upper_limit\n",
    "df_capped.loc[df_capped['price_per_sqft'] < lower_limit, 'price_per_sqft'] = lower_limit"
   ]
  },
  {
   "cell_type": "code",
   "execution_count": 101,
   "id": "9ba6a101-db47-4d55-951e-9171ad2d436d",
   "metadata": {},
   "outputs": [
    {
     "data": {
      "image/png": "[encoded data removed]",
      "text/plain": [
       "<Figure size 1500x600 with 3 Axes>"
      ]
     },
     "metadata": {},
     "output_type": "display_data"
    }
   ],
   "source": [
    "\n",
    "# Set up a figure with three box plots\n",
    "fig, axes = plt.subplots(1, 3, figsize=(15, 6))\n"
   ]
  },
  {
   "cell_type": "code",
   "execution_count": 103,
   "id": "7f7cb445-196a-42cf-a751-5c987f64d57b",
   "metadata": {},
   "outputs": [
    {
     "data": {
      "text/plain": [
       "Text(0.5, 1.0, 'Original Data')"
      ]
     },
     "execution_count": 103,
     "metadata": {},
     "output_type": "execute_result"
    }
   ],
   "source": [
    "#Original data box plot\n",
    "sns.boxplot(y=df['price_per_sqft'], ax=axes[0], color='skyblue')\n",
    "axes[0].set_title('Original Data')"
   ]
  },
  {
   "cell_type": "code",
   "execution_count": 105,
   "id": "6008eb57-9775-4bda-88af-6b39800461e8",
   "metadata": {},
   "outputs": [
    {
     "data": {
      "text/plain": [
       "Text(0.5, 1.0, 'Trimmed Data')"
      ]
     },
     "execution_count": 105,
     "metadata": {},
     "output_type": "execute_result"
    }
   ],
   "source": [
    "#Trimmed data box plot\n",
    "sns.boxplot(y=df_trimmed['price_per_sqft'], ax=axes[1], color='salmon')\n",
    "axes[1].set_title('Trimmed Data')\n"
   ]
  },
  {
   "cell_type": "code",
   "execution_count": 106,
   "id": "89d6f357-efaf-4ee4-9096-76b7280f39f6",
   "metadata": {},
   "outputs": [
    {
     "data": {
      "text/plain": [
       "Text(0.5, 1.0, 'Capped Data')"
      ]
     },
     "execution_count": 106,
     "metadata": {},
     "output_type": "execute_result"
    }
   ],
   "source": [
    "#Capped data box plot\n",
    "sns.boxplot(y=df_capped['price_per_sqft'], ax=axes[2], color='limegreen')\n",
    "axes[2].set_title('Capped Data')\n"
   ]
  },
  {
   "cell_type": "code",
   "execution_count": 108,
   "id": "6f2eb13b-c8bb-4fbf-b255-aedfef7c405e",
   "metadata": {},
   "outputs": [
    {
     "data": {
      "text/plain": [
       "<Figure size 640x480 with 0 Axes>"
      ]
     },
     "metadata": {},
     "output_type": "display_data"
    }
   ],
   "source": [
    "#Adjust layout\n",
    "plt.tight_layout()\n",
    "plt.show()"
   ]
  },
  {
   "cell_type": "code",
   "execution_count": null,
   "id": "9a3f6a64-430e-47ca-9cbe-2a1fc3b9968d",
   "metadata": {},
   "outputs": [],
   "source": []
  },
  {
   "cell_type": "code",
   "execution_count": null,
   "id": "88e22505-355a-469c-9d0e-a78ec7798793",
   "metadata": {},
   "outputs": [],
   "source": [
    " #4.Draw histplot to check the normality of the column(price per sqft column) and perform transformations if needed. Check the skewness and kurtosis before and after the transformation."
   ]
  },
  {
   "cell_type": "code",
   "execution_count": 110,
   "id": "a0f61cb4-3071-41b8-84a8-6a9231eb3d13",
   "metadata": {},
   "outputs": [
    {
     "data": {
      "image/png": "[encoded data removed]",
      "text/plain": [
       "<Figure size 1400x600 with 2 Axes>"
      ]
     },
     "metadata": {},
     "output_type": "display_data"
    }
   ],
   "source": [
    "# Initial plot and skewness/kurtosis calculations for the original data\n",
    "fig, axes = plt.subplots(1, 2, figsize=(14, 6))\n",
    "\n"
   ]
  },
  {
   "cell_type": "code",
   "execution_count": 111,
   "id": "0c080799-06a7-4316-bc42-5153434c034e",
   "metadata": {},
   "outputs": [
    {
     "data": {
      "text/plain": [
       "Text(0.5, 1.0, 'Original Data Distribution')"
      ]
     },
     "execution_count": 111,
     "metadata": {},
     "output_type": "execute_result"
    }
   ],
   "source": [
    "# Plot original data distribution\n",
    "sns.histplot(df['price_per_sqft'], kde=True, ax=axes[0], color=\"skyblue\")\n",
    "axes[0].set_title('Original Data Distribution')"
   ]
  },
  {
   "cell_type": "code",
   "execution_count": 119,
   "id": "fa303636-2acd-4d4d-923e-5e899c0d2b16",
   "metadata": {},
   "outputs": [],
   "source": [
    "from scipy.stats import skew, kurtosis"
   ]
  },
  {
   "cell_type": "code",
   "execution_count": 122,
   "id": "7467416e-414a-4207-9f1c-18aa56550891",
   "metadata": {},
   "outputs": [
    {
     "data": {
      "text/plain": [
       "<Figure size 640x480 with 0 Axes>"
      ]
     },
     "metadata": {},
     "output_type": "display_data"
    },
    {
     "name": "stdout",
     "output_type": "stream",
     "text": [
      "Original Skewness: 103.89\n",
      "Original Kurtosis: 11131.23\n"
     ]
    }
   ],
   "source": [
    "# Calculate skewness and kurtosis\n",
    "\n",
    "original_skewness = skew(df['price_per_sqft'])\n",
    "original_kurtosis = kurtosis(df['price_per_sqft'])\n",
    "axes[1].text(0.2, 0.8, f'Skewness: {original_skewness:.2f}', fontsize=12)\n",
    "axes[1].text(0.2, 0.6, f'Kurtosis: {original_kurtosis:.2f}', fontsize=12)\n",
    "axes[1].set_title('Original Skewness & Kurtosis')\n",
    "axes[1].axis('off')\n",
    "\n",
    "plt.tight_layout()\n",
    "plt.show()\n",
    "\n",
    "print(f\"Original Skewness: {original_skewness:.2f}\")\n",
    "print(f\"Original Kurtosis: {original_kurtosis:.2f}\")\n",
    "\n"
   ]
  },
  {
   "cell_type": "code",
   "execution_count": 123,
   "id": "41a987d4-df21-4361-8915-d06a60b62123",
   "metadata": {},
   "outputs": [],
   "source": [
    "# Applying transformations if necessary based on skewness and kurtosis values\n",
    "# Log Transformation\n",
    "df['price_per_sqft_log'] = np.log1p(df['price_per_sqft'])\n"
   ]
  },
  {
   "cell_type": "code",
   "execution_count": 124,
   "id": "934b3e05-2ef4-4a5b-bd2c-855d50cc4ca8",
   "metadata": {},
   "outputs": [],
   "source": [
    "# Recalculate skewness and kurtosis after log transformation\n",
    "log_skewness = skew(df['price_per_sqft_log'])\n",
    "log_kurtosis = kurtosis(df['price_per_sqft_log'])\n"
   ]
  },
  {
   "cell_type": "code",
   "execution_count": 125,
   "id": "01684f11-3efc-4460-8663-d0bbd38b61f2",
   "metadata": {},
   "outputs": [
    {
     "data": {
      "image/png": "[encoded data removed]",
      "text/plain": [
       "<Figure size 1400x600 with 2 Axes>"
      ]
     },
     "metadata": {},
     "output_type": "display_data"
    }
   ],
   "source": [
    "# Plot log-transformed data distribution\n",
    "fig, axes = plt.subplots(1, 2, figsize=(14, 6))"
   ]
  },
  {
   "cell_type": "code",
   "execution_count": 126,
   "id": "c7cf199e-96dc-4992-9a35-8610f41be94e",
   "metadata": {},
   "outputs": [
    {
     "data": {
      "image/png": "[encoded data removed]",
      "text/plain": [
       "<Figure size 1400x600 with 2 Axes>"
      ]
     },
     "metadata": {},
     "output_type": "display_data"
    },
    {
     "name": "stdout",
     "output_type": "stream",
     "text": [
      "Log-Transformed Skewness: 1.40\n",
      "Log-Transformed Kurtosis: 9.40\n"
     ]
    }
   ],
   "source": [
    "# Plot log-transformed data distribution\n",
    "fig, axes = plt.subplots(1, 2, figsize=(14, 6))\n",
    "\n",
    "sns.histplot(df['price_per_sqft_log'], kde=True, ax=axes[0], color=\"salmon\")\n",
    "axes[0].set_title('Log-Transformed Data Distribution')\n",
    "\n",
    "axes[1].text(0.2, 0.8, f'Log Skewness: {log_skewness:.2f}', fontsize=12)\n",
    "axes[1].text(0.2, 0.6, f'Log Kurtosis: {log_kurtosis:.2f}', fontsize=12)\n",
    "axes[1].set_title('Log Transformation Skewness & Kurtosis')\n",
    "axes[1].axis('off')\n",
    "\n",
    "plt.tight_layout()\n",
    "plt.show()\n",
    "\n",
    "print(f\"Log-Transformed Skewness: {log_skewness:.2f}\")\n",
    "print(f\"Log-Transformed Kurtosis: {log_kurtosis:.2f}\")"
   ]
  },
  {
   "cell_type": "code",
   "execution_count": null,
   "id": "d144ae7f-349b-4a85-a2d6-1f2cf30c22db",
   "metadata": {},
   "outputs": [],
   "source": []
  },
  {
   "cell_type": "code",
   "execution_count": null,
   "id": "e9bfe21f-fc0b-4211-8aea-73e2817722b3",
   "metadata": {},
   "outputs": [],
   "source": []
  },
  {
   "cell_type": "code",
   "execution_count": null,
   "id": "4cc5ff57-70e5-4a41-b132-6adb4b47125b",
   "metadata": {},
   "outputs": [],
   "source": [
    "#Apply Transformation if Needed: If the skewness is high, try applying a log transformation:\n",
    "\n",
    "\n",
    "\n",
    "df['price_per_sqft_log'] = np.log1p(df['price_per_sqft'])\n",
    "\n",
    "# Plot histogram and check skewness and kurtosis after transformation\n",
    "sns.histplot(df['price_per_sqft_log'], kde=True)\n",
    "plt.title(\"Histogram after Log Transformation\")\n",
    "plt.show()\n",
    "\n",
    "print(\"Skewness after log:\", skew(df['price_per_sqft_log']))\n",
    "print(\"Kurtosis after log:\", kurtosis(df['price_per_sqft_log']))"
   ]
  },
  {
   "cell_type": "code",
   "execution_count": null,
   "id": "0a04ba8c-0797-47b3-9faf-da00408a257b",
   "metadata": {},
   "outputs": [],
   "source": [
    "# Q5. Check the correlation between all the numerical columns and plot heatmap."
   ]
  },
  {
   "cell_type": "code",
   "execution_count": 128,
   "id": "1f7a0e43-02c0-4496-8d74-b86d237c2a09",
   "metadata": {},
   "outputs": [],
   "source": [
    "# Select only numeric columns for correlation calculation\n",
    "numeric_df = df.select_dtypes(include=['number'])\n"
   ]
  },
  {
   "cell_type": "code",
   "execution_count": 130,
   "id": "8a9ece2a-274f-4c8c-95b2-d70cbb806fad",
   "metadata": {},
   "outputs": [
    {
     "data": {
      "text/html": [
       "<div>\n",
       "<style scoped>\n",
       "    .dataframe tbody tr th:only-of-type {\n",
       "        vertical-align: middle;\n",
       "    }\n",
       "\n",
       "    .dataframe tbody tr th {\n",
       "        vertical-align: top;\n",
       "    }\n",
       "\n",
       "    .dataframe thead th {\n",
       "        text-align: right;\n",
       "    }\n",
       "</style>\n",
       "<table border=\"1\" class=\"dataframe\">\n",
       "  <thead>\n",
       "    <tr style=\"text-align: right;\">\n",
       "      <th></th>\n",
       "      <th>total_sqft</th>\n",
       "      <th>bath</th>\n",
       "      <th>price</th>\n",
       "      <th>bhk</th>\n",
       "      <th>price_per_sqft</th>\n",
       "      <th>price_per_sqft_log</th>\n",
       "    </tr>\n",
       "  </thead>\n",
       "  <tbody>\n",
       "    <tr>\n",
       "      <th>total_sqft</th>\n",
       "      <td>1.000000</td>\n",
       "      <td>0.386694</td>\n",
       "      <td>0.572516</td>\n",
       "      <td>0.339936</td>\n",
       "      <td>-0.008877</td>\n",
       "      <td>0.100041</td>\n",
       "    </tr>\n",
       "    <tr>\n",
       "      <th>bath</th>\n",
       "      <td>0.386694</td>\n",
       "      <td>1.000000</td>\n",
       "      <td>0.448802</td>\n",
       "      <td>0.898875</td>\n",
       "      <td>0.030133</td>\n",
       "      <td>0.424472</td>\n",
       "    </tr>\n",
       "    <tr>\n",
       "      <th>price</th>\n",
       "      <td>0.572516</td>\n",
       "      <td>0.448802</td>\n",
       "      <td>1.000000</td>\n",
       "      <td>0.390008</td>\n",
       "      <td>0.027415</td>\n",
       "      <td>0.581649</td>\n",
       "    </tr>\n",
       "    <tr>\n",
       "      <th>bhk</th>\n",
       "      <td>0.339936</td>\n",
       "      <td>0.898875</td>\n",
       "      <td>0.390008</td>\n",
       "      <td>1.000000</td>\n",
       "      <td>0.030294</td>\n",
       "      <td>0.405748</td>\n",
       "    </tr>\n",
       "    <tr>\n",
       "      <th>price_per_sqft</th>\n",
       "      <td>-0.008877</td>\n",
       "      <td>0.030133</td>\n",
       "      <td>0.027415</td>\n",
       "      <td>0.030294</td>\n",
       "      <td>1.000000</td>\n",
       "      <td>0.205213</td>\n",
       "    </tr>\n",
       "    <tr>\n",
       "      <th>price_per_sqft_log</th>\n",
       "      <td>0.100041</td>\n",
       "      <td>0.424472</td>\n",
       "      <td>0.581649</td>\n",
       "      <td>0.405748</td>\n",
       "      <td>0.205213</td>\n",
       "      <td>1.000000</td>\n",
       "    </tr>\n",
       "  </tbody>\n",
       "</table>\n",
       "</div>"
      ],
      "text/plain": [
       "                    total_sqft      bath     price       bhk  price_per_sqft  \\\n",
       "total_sqft            1.000000  0.386694  0.572516  0.339936       -0.008877   \n",
       "bath                  0.386694  1.000000  0.448802  0.898875        0.030133   \n",
       "price                 0.572516  0.448802  1.000000  0.390008        0.027415   \n",
       "bhk                   0.339936  0.898875  0.390008  1.000000        0.030294   \n",
       "price_per_sqft       -0.008877  0.030133  0.027415  0.030294        1.000000   \n",
       "price_per_sqft_log    0.100041  0.424472  0.581649  0.405748        0.205213   \n",
       "\n",
       "                    price_per_sqft_log  \n",
       "total_sqft                    0.100041  \n",
       "bath                          0.424472  \n",
       "price                         0.581649  \n",
       "bhk                           0.405748  \n",
       "price_per_sqft                0.205213  \n",
       "price_per_sqft_log            1.000000  "
      ]
     },
     "execution_count": 130,
     "metadata": {},
     "output_type": "execute_result"
    }
   ],
   "source": [
    "# Calculate the correlation matrix for numeric columns\n",
    "correlation_matrix = numeric_df.corr()\n",
    "correlation_matrix"
   ]
  },
  {
   "cell_type": "code",
   "execution_count": 131,
   "id": "905aab72-7a5f-40ab-b02f-4572fc79124d",
   "metadata": {},
   "outputs": [
    {
     "data": {
      "image/png": "[encoded data removed]",
      "text/plain": [
       "<Figure size 1200x800 with 2 Axes>"
      ]
     },
     "metadata": {},
     "output_type": "display_data"
    }
   ],
   "source": [
    "# Plot a heatmap to visualize the correlation matrix\n",
    "plt.figure(figsize=(12, 8))\n",
    "sns.heatmap(correlation_matrix, annot=True, cmap='coolwarm', center=0, vmin=-1, vmax=1)\n",
    "plt.title('Correlation Heatmap of Numerical Columns')\n",
    "plt.show()"
   ]
  },
  {
   "cell_type": "code",
   "execution_count": null,
   "id": "0d38870c-ea56-4069-9968-1c0f39c6b174",
   "metadata": {},
   "outputs": [],
   "source": [
    "#Q6. Draw Scatter plot between the variables to check the correlation between them."
   ]
  },
  {
   "cell_type": "code",
   "execution_count": 133,
   "id": "86db072d-db8f-4c95-b729-127867f3883b",
   "metadata": {},
   "outputs": [],
   "source": [
    "# Using Pairplot for Multiple Scatter Plots\n",
    "# Select only numeric columns for correlation check\n",
    "numeric_df = df.select_dtypes(include=['number'])\n",
    "\n"
   ]
  },
  {
   "cell_type": "code",
   "execution_count": 135,
   "id": "6f4edbdb-70a5-4bcf-9887-45e4ce321f78",
   "metadata": {},
   "outputs": [
    {
     "data": {
      "image/png": "[encoded data removed]",
      "text/plain": [
       "<Figure size 1500x1500 with 42 Axes>"
      ]
     },
     "metadata": {},
     "output_type": "display_data"
    }
   ],
   "source": [
    "# Pairplot to show scatter plots between each pair of variables\n",
    "sns.pairplot(numeric_df)\n",
    "plt.suptitle(\"Scatter Plot Matrix of Numerical Columns\", y=1.02)\n",
    "plt.show()"
   ]
  },
  {
   "cell_type": "code",
   "execution_count": null,
   "id": "755c0c58-833a-481d-b203-7f8dd868b1e6",
   "metadata": {},
   "outputs": [],
   "source": []
  }
 ],
 "metadata": {
  "kernelspec": {
   "display_name": "Python 3 (ipykernel)",
   "language": "python",
   "name": "python3"
  },
  "language_info": {
   "codemirror_mode": {
    "name": "ipython",
    "version": 3
   },
   "file_extension": ".py",
   "mimetype": "text/x-python",
   "name": "python",
   "nbconvert_exporter": "python",
   "pygments_lexer": "ipython3",
   "version": "3.12.4"
  }
 },
 "nbformat": 4,
 "nbformat_minor": 5
}
